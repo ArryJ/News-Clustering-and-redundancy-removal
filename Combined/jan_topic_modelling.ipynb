{
 "cells": [
  {
   "cell_type": "code",
   "execution_count": 2,
   "metadata": {},
   "outputs": [
    {
     "name": "stderr",
     "output_type": "stream",
     "text": [
      "C:\\Users\\ajain\\Anaconda3\\lib\\site-packages\\scipy\\sparse\\sparsetools.py:21: DeprecationWarning: `scipy.sparse.sparsetools` is deprecated!\n",
      "scipy.sparse.sparsetools is a private module for scipy.sparse, and should not be used.\n",
      "  _deprecated()\n"
     ]
    }
   ],
   "source": [
    "import string\n",
    "import numpy as np\n",
    "import pandas as pd\n",
    "import pyLDAvis.gensim\n",
    "from nltk import word_tokenize\n",
    "from nltk.corpus import stopwords\n",
    "from nltk.stem.wordnet import WordNetLemmatizer\n",
    "from gensim.models import Phrases, TfidfModel\n",
    "from gensim.corpora import Dictionary\n",
    "from gensim.models import LdaModel\n",
    "from scipy.spatial import distance\n",
    "from gensim.test.utils import datapath\n",
    "from gensim.models import hdpmodel"
   ]
  },
  {
   "cell_type": "code",
   "execution_count": 2,
   "metadata": {},
   "outputs": [
    {
     "name": "stderr",
     "output_type": "stream",
     "text": [
      "C:\\Users\\ajain\\Anaconda3\\lib\\site-packages\\ipykernel\\ipkernel.py:287: DeprecationWarning: `should_run_async` will not call `transform_cell` automatically in the future. Please pass the result to `transformed_cell` argument and any exception that happen during thetransform in `preprocessing_exc_tuple` in IPython 7.17 and above.\n",
      "  and should_run_async(code)\n"
     ]
    }
   ],
   "source": [
    "articles = []\n",
    "\n",
    "for l in range(1,4):\n",
    "    k = 32\n",
    "    if (l == 2):\n",
    "        k=30     \n",
    "    for i in range(1,k):\n",
    "        dataP = pd.read_csv(str(l) + \"_\" + str(i) + \"_P.csv\")\n",
    "        dataTH = pd.read_csv(str(l) + \"_\" + str(i) + \"_TH.csv\")\n",
    "        dataTOI = pd.read_csv(str(l) + \"_\" + str(i) + \"_TOI.csv\")\n",
    "        for j in range(len(dataP)):\n",
    "            articles.append(dataP['Article'][j])\n",
    "        for j in range(len(dataTH)):\n",
    "            articles.append(dataTH['Content'][j])\n",
    "        for j in range(len(dataTOI)):\n",
    "            articles.append(dataTOI['Content'][j])\n",
    "                     \n",
    "     "
   ]
  },
  {
   "cell_type": "code",
   "execution_count": 4,
   "metadata": {},
   "outputs": [
    {
     "name": "stderr",
     "output_type": "stream",
     "text": [
      "C:\\Users\\ajain\\Anaconda3\\lib\\site-packages\\ipykernel\\ipkernel.py:287: DeprecationWarning: `should_run_async` will not call `transform_cell` automatically in the future. Please pass the result to `transformed_cell` argument and any exception that happen during thetransform in `preprocessing_exc_tuple` in IPython 7.17 and above.\n",
      "  and should_run_async(code)\n"
     ]
    }
   ],
   "source": [
    "corona =[]\n",
    "dataTOI = pd.read_csv(\"corona.csv\")\n",
    "for j in range(len(dataTOI)):\n",
    "    corona.append(dataTOI['content'][j])"
   ]
  },
  {
   "cell_type": "code",
   "execution_count": 3,
   "metadata": {},
   "outputs": [
    {
     "name": "stderr",
     "output_type": "stream",
     "text": [
      "C:\\Users\\ajain\\Anaconda3\\lib\\site-packages\\ipykernel\\ipkernel.py:287: DeprecationWarning: `should_run_async` will not call `transform_cell` automatically in the future. Please pass the result to `transformed_cell` argument and any exception that happen during thetransform in `preprocessing_exc_tuple` in IPython 7.17 and above.\n",
      "  and should_run_async(code)\n"
     ]
    }
   ],
   "source": [
    "import glob\n",
    "path = r\"C:\\Users\\ajain\\Desktop\\DATASET\\TOI\\*.csv\"\n",
    "for fname in glob.glob(path):\n",
    "   df=pd.read_csv(fname)\n",
    "   for j in range(len(df)):\n",
    "        articles.append(df['Content'][j])"
   ]
  },
  {
   "cell_type": "code",
   "execution_count": 5,
   "metadata": {},
   "outputs": [
    {
     "name": "stderr",
     "output_type": "stream",
     "text": [
      "C:\\Users\\ajain\\Anaconda3\\lib\\site-packages\\ipykernel\\ipkernel.py:287: DeprecationWarning: `should_run_async` will not call `transform_cell` automatically in the future. Please pass the result to `transformed_cell` argument and any exception that happen during thetransform in `preprocessing_exc_tuple` in IPython 7.17 and above.\n",
      "  and should_run_async(code)\n"
     ]
    }
   ],
   "source": [
    "def standardize_data(articles):\n",
    "    temp = []\n",
    "    for article in articles:\n",
    "        if type(article) is str:\n",
    "            temp.append(article.lower().translate(str.maketrans('','' , string.punctuation)))\n",
    "    for i in range(len(temp)):\n",
    "        temp[i] = \" \".join(temp[i].split())\n",
    "    return temp"
   ]
  },
  {
   "cell_type": "code",
   "execution_count": 6,
   "metadata": {},
   "outputs": [
    {
     "name": "stderr",
     "output_type": "stream",
     "text": [
      "C:\\Users\\ajain\\Anaconda3\\lib\\site-packages\\ipykernel\\ipkernel.py:287: DeprecationWarning: `should_run_async` will not call `transform_cell` automatically in the future. Please pass the result to `transformed_cell` argument and any exception that happen during thetransform in `preprocessing_exc_tuple` in IPython 7.17 and above.\n",
      "  and should_run_async(code)\n"
     ]
    }
   ],
   "source": [
    "def word_preprocessing(articles):\n",
    "    words = []\n",
    "    for article in articles:\n",
    "        words.append(word_tokenize(article))\n",
    "    stop_words = set(stopwords.words(\"english\"))\n",
    "\n",
    "    for i in range(len(words)):\n",
    "        words[i] = [word for word in words[i] if word not in stop_words]  \n",
    "\n",
    "    for i in range(len(words)):\n",
    "        words[i] = [token for token in words[i] if not token.isnumeric()] \n",
    "\n",
    "    lemmatizer = WordNetLemmatizer()\n",
    "    for i in range(len(words)):\n",
    "        words[i] = [lemmatizer.lemmatize(j) for j in words[i]]\n",
    "\n",
    "    for i in range(len(words)): \n",
    "        words[i] = [token for token in words[i] if len(token) > 1]\n",
    "    \n",
    "    return words"
   ]
  },
  {
   "cell_type": "code",
   "execution_count": 6,
   "metadata": {},
   "outputs": [],
   "source": [
    "articles = standardize_data(articles)\n",
    "words = word_preprocessing(articles)"
   ]
  },
  {
   "cell_type": "code",
   "execution_count": 8,
   "metadata": {},
   "outputs": [
    {
     "name": "stderr",
     "output_type": "stream",
     "text": [
      "C:\\Users\\ajain\\Anaconda3\\lib\\site-packages\\ipykernel\\ipkernel.py:287: DeprecationWarning: `should_run_async` will not call `transform_cell` automatically in the future. Please pass the result to `transformed_cell` argument and any exception that happen during thetransform in `preprocessing_exc_tuple` in IPython 7.17 and above.\n",
      "  and should_run_async(code)\n"
     ]
    }
   ],
   "source": [
    "articles = standardize_data(corona)\n",
    "words = word_preprocessing(articles)"
   ]
  },
  {
   "cell_type": "code",
   "execution_count": 27,
   "metadata": {},
   "outputs": [
    {
     "name": "stderr",
     "output_type": "stream",
     "text": [
      "C:\\Users\\ajain\\Anaconda3\\lib\\site-packages\\ipykernel\\ipkernel.py:287: DeprecationWarning: `should_run_async` will not call `transform_cell` automatically in the future. Please pass the result to `transformed_cell` argument and any exception that happen during thetransform in `preprocessing_exc_tuple` in IPython 7.17 and above.\n",
      "  and should_run_async(code)\n"
     ]
    }
   ],
   "source": [
    "def LDA_preprocessing(words):\n",
    "    bigram = Phrases(words, min_count=5,threshold= 100)\n",
    "    for idx in range(len(words)):\n",
    "        for token in bigram[words[idx]]:\n",
    "            if '_' in token:\n",
    "                words[idx].append(token)    \n",
    "    dictionary = Dictionary(words)\n",
    "    dictionary.filter_extremes(no_below = 50 ,no_above = 0.30)\n",
    "    corpus = [dictionary.doc2bow(doc) for doc in words]\n",
    "    tfidf = TfidfModel(corpus)\n",
    "    corpus_tfidf = tfidf[corpus]\n",
    "    \n",
    "    return dictionary, corpus, words"
   ]
  },
  {
   "cell_type": "code",
   "execution_count": 28,
   "metadata": {},
   "outputs": [
    {
     "name": "stderr",
     "output_type": "stream",
     "text": [
      "C:\\Users\\ajain\\Anaconda3\\lib\\site-packages\\ipykernel\\ipkernel.py:287: DeprecationWarning: `should_run_async` will not call `transform_cell` automatically in the future. Please pass the result to `transformed_cell` argument and any exception that happen during thetransform in `preprocessing_exc_tuple` in IPython 7.17 and above.\n",
      "  and should_run_async(code)\n"
     ]
    }
   ],
   "source": [
    "dictionary, corpus_tfidf, words = LDA_preprocessing(words)"
   ]
  },
  {
   "cell_type": "code",
   "execution_count": 17,
   "metadata": {},
   "outputs": [
    {
     "name": "stderr",
     "output_type": "stream",
     "text": [
      "C:\\Users\\ajain\\Anaconda3\\lib\\site-packages\\ipykernel\\ipkernel.py:287: DeprecationWarning: `should_run_async` will not call `transform_cell` automatically in the future. Please pass the result to `transformed_cell` argument and any exception that happen during thetransform in `preprocessing_exc_tuple` in IPython 7.17 and above.\n",
      "  and should_run_async(code)\n"
     ]
    },
    {
     "data": {
      "text/plain": [
       "7072"
      ]
     },
     "execution_count": 17,
     "metadata": {},
     "output_type": "execute_result"
    }
   ],
   "source": [
    "len(dictionary)"
   ]
  },
  {
   "cell_type": "code",
   "execution_count": 32,
   "metadata": {},
   "outputs": [
    {
     "name": "stderr",
     "output_type": "stream",
     "text": [
      "C:\\Users\\ajain\\Anaconda3\\lib\\site-packages\\ipykernel\\ipkernel.py:287: DeprecationWarning: `should_run_async` will not call `transform_cell` automatically in the future. Please pass the result to `transformed_cell` argument and any exception that happen during thetransform in `preprocessing_exc_tuple` in IPython 7.17 and above.\n",
      "  and should_run_async(code)\n"
     ]
    }
   ],
   "source": [
    "num_topics = 4\n",
    "chunksize = 5000\n",
    "passes = 20\n",
    "iterations = 400\n",
    "eval_every = None"
   ]
  },
  {
   "cell_type": "code",
   "execution_count": 33,
   "metadata": {},
   "outputs": [
    {
     "name": "stderr",
     "output_type": "stream",
     "text": [
      "C:\\Users\\ajain\\Anaconda3\\lib\\site-packages\\ipykernel\\ipkernel.py:287: DeprecationWarning: `should_run_async` will not call `transform_cell` automatically in the future. Please pass the result to `transformed_cell` argument and any exception that happen during thetransform in `preprocessing_exc_tuple` in IPython 7.17 and above.\n",
      "  and should_run_async(code)\n"
     ]
    }
   ],
   "source": [
    "model = LdaModel(corpus=corpus_tfidf, id2word=dictionary, chunksize=chunksize, \n",
    "                 alpha='auto', eta='auto', iterations=iterations, num_topics=num_topics,\n",
    "                 passes=passes, eval_every=eval_every )"
   ]
  },
  {
   "cell_type": "code",
   "execution_count": null,
   "metadata": {},
   "outputs": [
    {
     "name": "stderr",
     "output_type": "stream",
     "text": [
      "C:\\Users\\ajain\\Anaconda3\\lib\\site-packages\\ipykernel\\ipkernel.py:287: DeprecationWarning: `should_run_async` will not call `transform_cell` automatically in the future. Please pass the result to `transformed_cell` argument and any exception that happen during thetransform in `preprocessing_exc_tuple` in IPython 7.17 and above.\n",
      "  and should_run_async(code)\n"
     ]
    }
   ],
   "source": [
    "lda_display = pyLDAvis.gensim.prepare(model, corpus_tfidf, dictionary, sort_topics=False)\n",
    "pyLDAvis.display(lda_display)"
   ]
  },
  {
   "cell_type": "code",
   "execution_count": 9,
   "metadata": {},
   "outputs": [
    {
     "name": "stderr",
     "output_type": "stream",
     "text": [
      "C:\\Users\\ajain\\Anaconda3\\lib\\site-packages\\ipykernel\\ipkernel.py:287: DeprecationWarning: `should_run_async` will not call `transform_cell` automatically in the future. Please pass the result to `transformed_cell` argument and any exception that happen during thetransform in `preprocessing_exc_tuple` in IPython 7.17 and above.\n",
      "  and should_run_async(code)\n"
     ]
    }
   ],
   "source": [
    "temp_file = datapath(\"modelf\")\n",
    "#model.save((temp_file))\n",
    "\n",
    "modelf= LdaModel.load(temp_file)"
   ]
  },
  {
   "cell_type": "code",
   "execution_count": 33,
   "metadata": {},
   "outputs": [],
   "source": []
  },
  {
   "cell_type": "code",
   "execution_count": 10,
   "metadata": {},
   "outputs": [
    {
     "name": "stderr",
     "output_type": "stream",
     "text": [
      "C:\\Users\\ajain\\Anaconda3\\lib\\site-packages\\ipykernel\\ipkernel.py:287: DeprecationWarning: `should_run_async` will not call `transform_cell` automatically in the future. Please pass the result to `transformed_cell` argument and any exception that happen during thetransform in `preprocessing_exc_tuple` in IPython 7.17 and above.\n",
      "  and should_run_async(code)\n"
     ]
    }
   ],
   "source": [
    "lda_display = pyLDAvis.gensim.prepare(modelf, corpus_tfidf, dictionary, sort_topics=False)\n"
   ]
  },
  {
   "cell_type": "code",
   "execution_count": 11,
   "metadata": {},
   "outputs": [
    {
     "name": "stderr",
     "output_type": "stream",
     "text": [
      "C:\\Users\\ajain\\Anaconda3\\lib\\site-packages\\ipykernel\\ipkernel.py:287: DeprecationWarning: `should_run_async` will not call `transform_cell` automatically in the future. Please pass the result to `transformed_cell` argument and any exception that happen during thetransform in `preprocessing_exc_tuple` in IPython 7.17 and above.\n",
      "  and should_run_async(code)\n"
     ]
    },
    {
     "data": {
      "text/html": [
       "\n",
       "<link rel=\"stylesheet\" type=\"text/css\" href=\"https://cdn.rawgit.com/bmabey/pyLDAvis/files/ldavis.v1.0.0.css\">\n",
       "\n",
       "\n",
       "<div id=\"ldavis_el215614488458999767149353793\"></div>\n",
       "<script type=\"text/javascript\">\n",
       "\n",
       "var ldavis_el215614488458999767149353793_data = {\"mdsDat\": {\"x\": [0.00899015089640201, -0.09564730205657317, -0.0777050966892785, -0.010869666753643677, -0.017300657420124082, 0.19253257202321744], \"y\": [-0.1653922679010398, 0.016822246915963828, 0.04331089944198057, -0.03296212904904306, 0.09773951766849645, 0.04048173292364208], \"topics\": [1, 2, 3, 4, 5, 6], \"cluster\": [1, 1, 1, 1, 1, 1], \"Freq\": [15.092344398563009, 15.72428023404563, 17.40878963169997, 20.515606780382985, 17.627174485422305, 13.631804469886102]}, \"tinfo\": {\"Term\": [\"patient\", \"police\", \"student\", \"hospital\", \"positive\", \"case\", \"exam\", \"accused\", \"tested\", \"court\", \"school\", \"arrested\", \"party\", \"death\", \"congress\", \"covid\", \"reported\", \"bjp\", \"covid19\", \"tested_positive\", \"film\", \"class\", \"test\", \"health\", \"testing\", \"bed\", \"crore\", \"teacher\", \"station\", \"doctor\", \"positivity_rate\", \"rapid_antigen\", \"icu_bed\", \"comorbid\", \"plasma\", \"highest_singleday\", \"comorbid_condition\", \"mild_symptom\", \"recovery_rate\", \"caseload\", \"throat_swab\", \"rtpcr_test\", \"hypertension\", \"severe_acute\", \"antigen\", \"research_icmr\", \"pneumonia\", \"swab_sample\", \"singleday\", \"cured\", \"tally\", \"civil_surgeon\", \"noncovid\", \"mortality_rate\", \"symptomatic\", \"swab\", \"icmr\", \"niv\", \"travel_history\", \"virology\", \"patient\", \"antibody\", \"rtpcr\", \"tested\", \"tested_positive\", \"discharged\", \"positive\", \"asymptomatic\", \"icu\", \"sample\", \"bed\", \"fatality\", \"oxygen\", \"testing\", \"isolation\", \"symptom\", \"hospital\", \"reported\", \"infection\", \"active\", \"ventilator\", \"covid\", \"death\", \"toll\", \"doctor\", \"case\", \"health\", \"covid19\", \"recovery\", \"treatment\", \"test\", \"infected\", \"total\", \"medical\", \"rate\", \"dr\", \"district\", \"number\", \"recorded\", \"people\", \"day\", \"rbi\", \"investor\", \"msmes\", \"bse\", \"msme\", \"micro_small\", \"equity\", \"export\", \"moratorium\", \"import\", \"liquidity\", \"fiscal\", \"exporter\", \"subsidy\", \"lender\", \"billion\", \"hdfc\", \"repayment\", \"gdp\", \"startup\", \"enterprise\", \"regulator\", \"investment\", \"quintal\", \"annum\", \"per_annum\", \"troop\", \"beijing\", \"sitharaman\", \"rating\", \"loan\", \"promoter\", \"gst\", \"airline\", \"procurement\", \"price\", \"chinese\", \"consumer\", \"tax\", \"company\", \"crore\", \"manufacturer\", \"product\", \"manufacturing\", \"china\", \"industry\", \"farmer\", \"scheme\", \"bank\", \"flight\", \"production\", \"sector\", \"payment\", \"india\", \"financial\", \"agriculture\", \"fund\", \"project\", \"land\", \"business\", \"lakh\", \"bill\", \"power\", \"unit\", \"revenue\", \"airport\", \"market\", \"development\", \"per\", \"year\", \"minister\", \"demand\", \"month\", \"department\", \"new\", \"semester\", \"mathematics\", \"comedy\", \"question_paper\", \"world_cup\", \"syllabus\", \"championship\", \"genre\", \"cbse\", \"artiste\", \"tournament\", \"bowler\", \"olympic\", \"musician\", \"t20\", \"wicket\", \"batsman\", \"athlete\", \"skipper\", \"script\", \"over\", \"olympics\", \"odi\", \"film\", \"undergraduate\", \"class_xii\", \"bowling\", \"song\", \"xii\", \"exam\", \"scored\", \"music\", \"concert\", \"instagram\", \"actress\", \"singer\", \"movie\", \"student\", \"classroom\", \"class\", \"filmmaker\", \"academic\", \"artist\", \"school\", \"teacher\", \"admission\", \"examination\", \"actor\", \"art\", \"education\", \"course\", \"university\", \"learning\", \"online\", \"fan\", \"parent\", \"college\", \"love\", \"teaching\", \"say\", \"science\", \"child\", \"candidate\", \"year\", \"study\", \"time\", \"fee\", \"pandemic\", \"like\", \"get\", \"september\", \"institute\", \"video\", \"social\", \"many\", \"imd\", \"maximum_temperature\", \"minimum_temperature\", \"heavy_rainfall\", \"rainfall\", \"meteorological\", \"sewage\", \"shramik_special\", \"waterlogging\", \"dam\", \"garbage\", \"shower\", \"nhai\", \"heavy_rain\", \"rainwater\", \"flooding\", \"degree_celsius\", \"solid_waste\", \"celsius\", \"rain\", \"drainage\", \"food_packet\", \"plying\", \"reservoir\", \"ply\", \"breeding\", \"commuter\", \"metro_rail\", \"autorickshaws\", \"zoo\", \"fisherman\", \"train\", \"epa\", \"stretch\", \"metro\", \"mm\", \"waste\", \"water\", \"bus\", \"heavy\", \"tree\", \"traffic\", \"lake\", \"road\", \"railway\", \"shop\", \"monsoon\", \"flood\", \"river\", \"devotee\", \"migrant\", \"mask\", \"restaurant\", \"vegetable\", \"passenger\", \"transport\", \"civic\", \"area\", \"corporation\", \"city\", \"distancing\", \"social_distancing\", \"market\", \"lockdown\", \"resident\", \"official\", \"allowed\", \"work\", \"people\", \"vehicle\", \"worker\", \"district\", \"department\", \"service\", \"place\", \"project\", \"day\", \"forest\", \"jdu\", \"assembly_poll\", \"division_bench\", \"scindia\", \"petitioner\", \"saffron_party\", \"polling\", \"bsp\", \"aicc\", \"interest_litigation\", \"rjd\", \"contesting\", \"npr\", \"rahul_gandhi\", \"citizenship_amendment\", \"caa\", \"electoral\", \"hc\", \"petition_filed\", \"legislature\", \"pil\", \"adjourned\", \"shaheen_bagh\", \"voting\", \"register_citizen\", \"kamal_nath\", \"nrc\", \"voter\", \"constitutional\", \"election\", \"bench\", \"mlas\", \"poll\", \"trs\", \"congress\", \"bjp\", \"rajya_sabha\", \"justice\", \"party\", \"petition\", \"assembly\", \"nda\", \"vote\", \"legislator\", \"leader\", \"court\", \"judge\", \"sabha\", \"opposition\", \"hearing\", \"advocate\", \"counsel\", \"rajya\", \"nitish\", \"political\", \"plea\", \"gehlot\", \"cm\", \"mla\", \"protest\", \"minister\", \"chief\", \"former\", \"mp\", \"high\", \"president\", \"singh\", \"order\", \"filed\", \"committee\", \"meeting\", \"secretary\", \"issue\", \"member\", \"suicide_note\", \"raped\", \"revealed_protect\", \"related_sexual\", \"victim_identity\", \"pocso_act\", \"succumbed_injury\", \"assailant\", \"robbery\", \"nabbed\", \"deceased_identified\", \"stabbed\", \"shot_dead\", \"pocso\", \"cartridge\", \"accomplice\", \"tipoff\", \"rammed\", \"criminal_intimidation\", \"sexually\", \"remanded\", \"sho\", \"pistol\", \"remanded_judicial\", \"nab\", \"sexual_offence\", \"countrymade\", \"busted\", \"sustained_injury\", \"assaulted\", \"crime_branch\", \"unidentified\", \"sleuth\", \"arrested\", \"gang\", \"cctv_footage\", \"gangster\", \"stolen\", \"accused\", \"murder\", \"fled\", \"postmortem\", \"raided\", \"seized\", \"police\", \"injury\", \"crime\", \"subinspector\", \"allegedly\", \"victim\", \"injured\", \"suicide\", \"lodged\", \"ipc\", \"custody\", \"autopsy\", \"incident\", \"cop\", \"fir\", \"girl\", \"suspect\", \"inspector\", \"booked\", \"rushed\", \"investigation\", \"station\", \"constable\", \"complaint\", \"deceased\", \"registered\", \"car\", \"woman\", \"identified\", \"found\", \"village\", \"house\", \"man\", \"family\", \"night\", \"case\", \"near\", \"officer\", \"two\", \"singh\", \"person\"], \"Freq\": [3162.0, 4012.0, 3143.0, 2870.0, 2110.0, 3842.0, 1808.0, 1676.0, 1620.0, 2517.0, 2497.0, 1286.0, 1750.0, 2110.0, 1507.0, 2172.0, 1808.0, 1444.0, 2894.0, 1120.0, 1024.0, 1424.0, 1822.0, 1801.0, 1081.0, 1053.0, 1630.0, 1324.0, 1538.0, 1319.0, 233.30183313781126, 183.01271623430029, 167.98920866131243, 133.76760218984137, 475.707175257335, 109.00322952441341, 104.38837782087823, 90.60510244181003, 340.552398500417, 189.48657103209942, 54.15748219945667, 164.14573764559105, 145.93684357260057, 65.00409565274288, 341.49446607307624, 67.89757123003683, 90.66152252843116, 118.02829367491798, 190.50553303986734, 246.68519100876745, 627.4623427055911, 145.6030263553262, 146.5174213118942, 115.1725422312833, 155.80004664295834, 256.759352176936, 197.93852279595646, 21.556629193103003, 99.79876891097622, 34.22586354647476, 3004.5836323798712, 212.29490404740287, 334.7437808860551, 1477.4056397166746, 1026.2119204989192, 659.0185577116337, 1831.4927616500763, 308.16579655501766, 340.98666575067807, 794.2222696597188, 914.6177966930743, 343.11883821480353, 692.5656376516105, 931.2944303925887, 550.9906576190514, 447.1992213820104, 2184.752102351851, 1416.487111384836, 829.6244571609034, 869.133917528382, 369.81952532284083, 1543.5712295900096, 1493.7064261332316, 538.9012681496743, 969.1438985936726, 2320.428385453826, 1238.3929290614492, 1750.9947369793324, 608.5090500483298, 836.8290826915461, 1182.5828386198773, 459.7348122430515, 851.9048737901339, 880.9625798823078, 804.7593348060998, 796.550573744672, 1247.00979606753, 924.6922966032478, 637.3787282707158, 663.291136676311, 649.3708206134593, 205.87612993642472, 270.71418992202064, 121.09818260863334, 42.883622601358745, 109.52624191633126, 57.52565941186737, 89.59363705748068, 272.811490829097, 99.04710809568628, 145.92606191264548, 61.30234984488372, 129.79474368405425, 67.5526209232075, 120.63320317344616, 104.12698976077327, 148.3883557268229, 52.391885333919426, 56.495683471771294, 54.88498887143699, 241.63999163415613, 154.07499109978173, 78.44355101082878, 342.91540389276435, 94.03830699730072, 53.07234279564346, 53.06373344790539, 184.83250860403982, 60.41282810010921, 49.165076689680596, 88.53703220461337, 577.5310365125167, 84.87274177781705, 249.23926639802468, 192.2283760744832, 222.76583091334194, 604.6962061095082, 347.2071688304631, 310.2363152659266, 475.78254110472903, 937.8336714139576, 1143.491435442519, 203.74101169738424, 374.12021383165353, 282.449426559595, 342.0021682646656, 772.9962558553071, 930.1359847129964, 609.0640129329439, 732.133664909778, 516.0693204128144, 310.30812204485346, 487.9374605383074, 361.9981164758531, 677.183588419257, 406.74226425715847, 348.51635979718134, 430.4984172051418, 622.5511449394901, 568.3913502389734, 482.1370473920092, 616.4311441177563, 446.2160116501957, 443.33225683811645, 456.2641283344957, 400.89236008704796, 384.83948635286475, 445.74404157395986, 425.8249768402472, 467.55541175626996, 495.050322425793, 450.1051971078541, 389.57534024696645, 419.92761775536763, 428.2670317305343, 397.28179579087407, 272.1074333915401, 102.10628019773773, 56.032647234335556, 128.0132276729344, 47.70507034675037, 160.95510335476064, 53.1957286094734, 37.12081820807166, 196.55844693714903, 137.236377583542, 92.13340239283859, 28.065428329615614, 33.40767163779948, 81.59084981066016, 29.040057309740348, 29.61729879634404, 25.98141418928024, 55.185344857489866, 22.02040528986003, 132.91006832117924, 21.525881010724408, 34.816698862961985, 20.860333696930667, 981.4701569908183, 166.29928906052183, 228.18654050209625, 18.895346824771263, 299.58578426384133, 280.77961866013925, 1725.3982399692532, 160.19258644431207, 312.96141200333534, 60.010752613785904, 279.088372713864, 467.5480962714106, 178.59066070401386, 287.74985788903916, 2690.983326804674, 169.63208262589106, 1207.7580170107808, 134.52497090426093, 417.48809992106305, 166.50189953740684, 1973.0507000096106, 1067.3477843282349, 886.2409485652641, 864.5769262676508, 635.5635480687934, 290.92790586173044, 1040.6078901843991, 638.5978661348737, 1073.6642057699103, 338.6221897027855, 1151.9989885980328, 291.9508167591977, 741.4473444648345, 952.3553230099342, 305.5402660285181, 253.59515967969108, 660.6651857739561, 374.6493742048881, 636.8395041531609, 523.8073841081718, 710.48205556333, 412.81702823842, 575.3074747737531, 442.3180273887179, 511.72782021287867, 458.0437683440015, 475.001372582942, 497.2667341196946, 385.3057054490229, 405.0139851089817, 427.86944477548997, 423.5086457457002, 232.556761938561, 104.78462322345456, 47.75244395379007, 188.9899988138144, 728.2675537010384, 153.4521884196691, 118.86354711956162, 79.68668994785247, 160.2537183133864, 407.4230212055493, 256.1328226602844, 202.31948920521765, 100.71915034906654, 247.10873402219286, 101.50098465716516, 81.87891998175193, 86.91861302227498, 83.03208396723704, 94.64743991809641, 759.202094557069, 126.48553725863034, 55.43918699660966, 74.97104921676707, 140.14305589845026, 70.48893512878838, 94.8103382999632, 243.75929322304566, 116.35478275438307, 57.09271271924272, 135.18977090371197, 190.11868730856892, 837.2988162478163, 201.79379746038705, 277.0121695628651, 530.0118283363047, 191.2173747314728, 457.7767210225935, 1241.0025900536791, 847.2175177214827, 494.616514178352, 512.0527333454869, 512.252787718347, 336.0122172496994, 1221.4335319945876, 691.9873673152546, 767.1546809229596, 384.8364291286289, 300.97843903080184, 503.57897133471965, 276.3954297009246, 485.980030887677, 697.9219122789972, 350.46356000024065, 365.0785095404846, 556.6178202129853, 408.9184701471487, 460.2850160675808, 839.5840690856681, 607.2158853130256, 865.765830929816, 492.03447387764686, 460.78957954870543, 576.6046617933029, 733.1767491630894, 618.1467599026358, 784.1324539590873, 500.80484624930835, 672.4875915425147, 755.2335938603187, 507.3996273161162, 585.5665876437936, 746.2795313368066, 569.9495597992675, 532.1913513046476, 523.0987950492156, 529.442197595452, 529.0331983313911, 509.47823758823415, 309.3965243744103, 111.37223887482023, 249.65184853653176, 128.79224438181, 613.6552068182323, 42.03595926417488, 115.20475816828268, 136.2043654854439, 93.86033184924936, 75.54046142735442, 389.98116867997015, 64.8199541301448, 40.50625053664476, 103.8604404969972, 38.73345814590525, 79.16193971391216, 92.4122152970039, 588.0378201916509, 152.0767217250564, 76.77279695729027, 277.7510554922026, 92.37714070468179, 30.407145563951342, 77.18332185488767, 16.481549030066024, 64.68698262254968, 43.62363997786516, 176.2598694688924, 119.47236218233944, 842.5940858231002, 768.8868006263908, 592.9488109194896, 388.6305610160544, 206.09065046304568, 1397.3536197553062, 1331.846759026763, 230.73819798262068, 836.1548471750473, 1558.3365336997183, 653.4974481503166, 717.7544056192772, 286.9479027171741, 207.34037112171384, 229.9856691805827, 942.5861031218262, 1976.4272567205128, 517.8089606817508, 393.4902408869255, 473.2791104072025, 619.0763236341431, 398.71853113715053, 370.93838884603935, 243.30351471040169, 358.45828587834677, 477.944502905072, 313.43839561631853, 325.06505234323987, 737.7131116402155, 530.0205185712219, 504.0898496423726, 1107.1823848288448, 863.5290371997944, 610.9499134033109, 451.8702792239595, 683.261397209772, 595.1156142376236, 772.4648655455321, 627.539267350353, 496.4144028033226, 548.0388464079754, 557.678044348263, 502.19694769595134, 503.46325460435105, 498.3222475912451, 136.60479562127097, 188.9476166483134, 111.1288926956907, 110.89432672187505, 111.11095868956542, 91.96254733849497, 78.93949930982754, 101.98545619877865, 144.93529444682733, 189.95255644823862, 160.8630571979009, 113.6472201975455, 82.51880449688876, 115.1725639035586, 73.03230364264726, 132.2694849948974, 130.08470176444334, 71.35039629851495, 65.67254762108435, 106.58216320183246, 111.87168298482018, 378.8660702423847, 145.2192730792519, 59.80933969333733, 124.79954780578139, 48.400505196311656, 67.33966882433977, 93.00285502254715, 74.40192510256081, 133.9417486920352, 257.324062840539, 226.7310019349348, 121.60351727718482, 1192.4411048787633, 373.55259138034774, 122.69347885811732, 185.970971734017, 177.3112120873418, 1437.0035219511753, 535.0971290432884, 198.44888599185097, 221.14302922324026, 165.22095008001884, 412.6736723010179, 2920.655982732707, 411.793070236473, 552.7123240832947, 239.67488262357088, 579.2742817065833, 602.989345302411, 307.55806127330754, 498.3127879285944, 477.44730140051405, 315.9721226825224, 329.05253246503344, 187.4296159999264, 647.4434159657978, 632.2745888164546, 502.08349509047684, 686.6929062531602, 387.60475599081985, 430.1179529676886, 469.03281635335924, 330.4626819545372, 544.9470877145806, 886.8172096912576, 315.5206423157231, 703.8889350870103, 424.4382861774323, 632.0812216323009, 496.6081629999313, 736.55499764552, 446.4113505641154, 618.6246919654224, 663.75390029247, 613.953989535521, 526.858689095631, 613.7481485675793, 465.6078448213721, 668.8135494221434, 479.637556621026, 512.524428688023, 519.5662326679201, 510.4590054471547, 469.65787059833957], \"Total\": [3162.0, 4012.0, 3143.0, 2870.0, 2110.0, 3842.0, 1808.0, 1676.0, 1620.0, 2517.0, 2497.0, 1286.0, 1750.0, 2110.0, 1507.0, 2172.0, 1808.0, 1444.0, 2894.0, 1120.0, 1024.0, 1424.0, 1822.0, 1801.0, 1081.0, 1053.0, 1630.0, 1324.0, 1538.0, 1319.0, 234.83139548962097, 184.50005135735518, 169.40803018344363, 134.89910762741863, 479.8497756825018, 110.00155777563236, 105.41869691581219, 91.52782119923091, 345.17018021069015, 192.24952368244246, 55.073303298800326, 167.1647282586832, 148.83473115852763, 66.39794786047581, 349.05385657915224, 69.4704498011195, 93.15063192761825, 121.28951117564654, 196.15597476537755, 254.45707195960455, 649.3070075717218, 150.79011247154943, 151.78585900441655, 119.45106598163777, 161.74830194483653, 266.8890627444991, 206.33555569750152, 22.47958048588576, 104.08865719321813, 35.744805699214346, 3162.2985477312973, 221.91075672090366, 351.9007402280187, 1620.952674554207, 1120.1528677996835, 721.9909179640621, 2110.712461732862, 330.8835532481484, 368.61774881036956, 905.2609781218437, 1053.1482593489404, 373.34411189326363, 788.9428534044291, 1081.4886489989774, 626.6480766082174, 500.9787738675437, 2870.7050794273814, 1808.467289324821, 1023.6194524936664, 1086.1507163737099, 415.2747826876116, 2172.3952914903907, 2110.9362637867966, 648.8699057258793, 1319.6889816924531, 3842.6777644664544, 1801.8834119046358, 2894.7457758657397, 776.9408044372611, 1169.7503964842908, 1822.6633332759632, 552.5943752738051, 1346.6537853447885, 1418.5032852737902, 1290.194287089888, 1293.226028190949, 3029.5484105707706, 1927.7061968032542, 1018.2366650687791, 2368.9083799726054, 2137.0112784804837, 211.04019021067745, 278.33851692792706, 124.56625747090567, 44.16974510753921, 112.97236109252161, 59.516115909456474, 92.75941552540628, 283.29418903427484, 102.98863157517029, 152.84698576201086, 64.25984570077172, 136.79416048526053, 71.870456492322, 129.27718904491047, 111.75712229857629, 159.40676934875577, 56.846165410111745, 61.972609150934595, 61.32370386587132, 270.0226735974202, 172.3958288661299, 87.90801104860685, 384.4219903251362, 106.044862559111, 59.998003636735525, 59.98939201783414, 211.14136348769466, 69.03350941597313, 56.35389281745947, 101.53047010323813, 674.9481021914971, 97.51818872701993, 296.2080425118615, 228.16906301088184, 268.6123053547256, 774.6981330221713, 430.7539913957992, 384.2625651085621, 608.8476734081785, 1298.8241579837268, 1630.4801724388358, 249.94376808587842, 506.3010111267103, 369.2736286234442, 467.07269610618755, 1211.4498349077444, 1509.2851655878867, 945.0565735101616, 1202.0569810688519, 791.4687223974346, 437.1455624175277, 806.9663938710513, 558.9806668993979, 1466.3313914047317, 698.4784296804308, 556.151250249604, 785.0099350096286, 1483.4894182397645, 1360.1911592855831, 1029.9666359947012, 1722.997878626394, 924.0080093820442, 921.4723079823991, 1008.1312210512287, 788.5394887445915, 756.8997679479139, 1163.7425780548642, 1036.5435823025068, 1432.432525910449, 2172.194484039101, 2173.3886190988264, 938.0815459339424, 1643.1307849250531, 2097.2826718639553, 1949.500447160102, 274.1346002944103, 103.68703061151703, 56.959429050764115, 130.17704045796185, 48.55055235333057, 164.0256220666509, 54.33147470370271, 37.9791716033116, 201.3621118451188, 140.78010758096465, 94.63602633016973, 28.903239520812274, 34.43408350383187, 84.17869434564854, 29.982475666609005, 30.582467281580318, 26.842182551507307, 57.13433238403236, 22.87040989645945, 138.05236523811772, 22.383298705440193, 36.207009938482855, 21.71175713751576, 1024.0872057855358, 173.58124138762034, 238.3745934974353, 19.748928620359774, 313.7820208814914, 294.24363642834936, 1808.1562893100604, 168.41799653467965, 332.8845610387217, 62.988508203824374, 298.54156172402463, 505.8814541918973, 189.7622049416499, 309.52987265672834, 3143.354861148679, 184.32067151952023, 1424.9232481551599, 145.53177224737806, 475.12941177865383, 181.8601052576272, 2497.99223354801, 1324.6919238553523, 1085.7600802581376, 1070.7681140236352, 777.2400979292106, 333.109066682946, 1427.0720754463064, 830.3435968700637, 1518.2923656410749, 408.57386119963496, 1697.8359440205274, 353.3302896725662, 1104.3898310926882, 1601.0187592509365, 386.335581459356, 304.6342816156518, 1247.801260882648, 565.6744869924373, 1346.6309074125695, 986.2206340197056, 2172.194484039101, 761.9479412449849, 1766.987522229969, 954.3808530969347, 1647.2960540781266, 1298.9065426678433, 1455.860751543394, 1914.278082024538, 771.6640229499326, 1018.621356234071, 1414.1020859329494, 1557.7864751906634, 233.85534857646041, 105.7997798817504, 48.62195784701209, 194.85392076317757, 751.7511972274535, 159.11637020078854, 124.60779899184126, 84.00126918003787, 169.58273045668471, 439.14337804714654, 276.2411002523814, 219.4844339924334, 109.52475023247096, 269.2362502024179, 111.1092300891511, 89.87982196046262, 95.4361587924008, 91.20189435972398, 104.47551102630483, 840.6308996042251, 140.25119415952986, 61.52269204057307, 83.26797971814196, 156.4551100871427, 78.85069153044674, 106.3352379330758, 275.1492638094912, 131.72161558995884, 64.72485498218617, 153.69795425915316, 217.24677838549493, 983.609002227699, 231.39042598644846, 323.5379469583812, 636.9384538474756, 221.88698103815153, 560.8281222290453, 1621.9265810617844, 1083.2900992737916, 621.8423806386537, 667.3851168941569, 672.3577534135304, 427.0112345798511, 1855.9953660891365, 976.0285277084633, 1106.8961285820317, 508.78492047139486, 383.23825857695397, 716.1438498140487, 350.15371952671353, 735.3659088464378, 1206.64813931532, 493.3167963061465, 524.2540507416858, 965.2260540278886, 641.3724570332718, 771.9090344177126, 1981.5853962018325, 1196.7683151678436, 2150.168654337482, 857.3106639608885, 784.3053828143481, 1163.7425780548642, 1857.3222511358201, 1395.5114312144474, 2247.758205290127, 966.7008074475702, 1797.919691965314, 2368.9083799726054, 1006.7525897461342, 1499.284685830694, 3029.5484105707706, 2097.2826718639553, 1400.9782295716946, 1305.7810302555058, 1483.4894182397645, 2137.0112784804837, 1108.5141549011305, 311.9188065145654, 112.50411308390208, 253.10523525052398, 130.85391890562852, 625.1057994857306, 42.871626706382244, 117.50513842270905, 138.99141224099753, 95.8191720272625, 77.13915878917828, 398.59461429086804, 66.39596399228768, 41.6054087685032, 106.88570836248279, 40.02346252946807, 81.85570768707991, 95.6998682175366, 610.9283238800576, 158.4353142054549, 80.08116348602316, 289.82489960377416, 96.65660457594561, 31.81904180445454, 81.03060529074946, 17.319577914386027, 67.98086873140416, 45.90146945255778, 185.53229501017964, 125.77938399736713, 888.3224516064067, 812.6719805793755, 627.7973001126828, 409.9094142300603, 217.73656422597875, 1507.188910054367, 1444.051875392964, 244.60710354725958, 919.6841193415318, 1750.990915445148, 717.8099624038765, 792.566347478323, 311.4196494374148, 223.6079848592031, 251.09245937410634, 1127.4825422833867, 2517.191866250527, 597.1935491554381, 446.1619228104386, 548.6471858453443, 747.0343036787273, 460.71027781861244, 429.2735286892792, 267.3505365318692, 426.2717056306339, 615.1337341031395, 367.10853863728096, 387.43057646299627, 1199.591566530607, 763.6533792928609, 713.6362919542792, 2173.3886190988264, 1633.1194406876834, 971.6093216232433, 628.6009423110646, 1413.3220260706873, 1099.8066577768461, 1982.5385954848161, 1485.5263784603972, 862.8963485455688, 1179.0378822626235, 1359.3942790573315, 1159.9781614756957, 1251.838923236024, 1554.4239248171848, 137.5023675892116, 190.48445757179348, 112.12537960585054, 111.89435914985745, 112.12007007797774, 93.31431982380067, 80.14105062791475, 103.637890118573, 147.30577928547015, 193.11094377199623, 164.09359813917555, 116.04309556337245, 84.38792908345567, 117.8756959272899, 74.85176791963937, 135.6865985916487, 133.70821808974162, 73.34148101479538, 67.60408900042519, 109.79945028631059, 115.25927136241168, 390.6936607282546, 149.94735025434167, 61.83720818002085, 129.2017396247361, 50.15486752590512, 69.86200041590057, 96.55740688469814, 77.25204028471084, 139.1825800906649, 268.5948489394139, 236.9106686716259, 126.45982667205647, 1286.1402481642308, 397.0727527654653, 127.99045248182522, 197.32439591866844, 187.96667755809915, 1676.3335320984672, 598.5091943190102, 213.1439126567326, 239.36152917074133, 175.56741468776784, 471.45005395094694, 4012.2634104767853, 475.73089327447684, 670.9774054157277, 265.4516663131752, 709.2274169982528, 745.6334520152614, 351.49706487038117, 604.9227116838125, 579.4532014819935, 365.108886939655, 385.5011382854071, 204.0012870135866, 893.1436354667705, 876.1413025807502, 666.0361912809302, 991.6923379098162, 490.2816568033686, 565.1114357793386, 637.843862032295, 410.7913771529587, 788.3081289731997, 1538.1992123661585, 387.75655852867425, 1183.5446445151172, 607.1728287999882, 1144.9858400561207, 798.5935453285115, 1646.0345417008007, 706.9735830407461, 1345.852845535468, 1622.2068518581082, 1483.775472516201, 1079.0426551134337, 1780.2615268432432, 838.8785061892, 3842.6777644664544, 969.4018312076153, 1720.3506472087256, 1907.82290149784, 1982.5385954848161, 1406.6305114231386], \"Category\": [\"Default\", \"Default\", \"Default\", \"Default\", \"Default\", \"Default\", \"Default\", \"Default\", \"Default\", \"Default\", \"Default\", \"Default\", \"Default\", \"Default\", \"Default\", \"Default\", \"Default\", \"Default\", \"Default\", \"Default\", \"Default\", \"Default\", \"Default\", \"Default\", \"Default\", \"Default\", \"Default\", \"Default\", \"Default\", \"Default\", \"Topic1\", \"Topic1\", \"Topic1\", \"Topic1\", \"Topic1\", \"Topic1\", \"Topic1\", \"Topic1\", \"Topic1\", \"Topic1\", \"Topic1\", \"Topic1\", \"Topic1\", \"Topic1\", \"Topic1\", \"Topic1\", \"Topic1\", \"Topic1\", \"Topic1\", \"Topic1\", \"Topic1\", \"Topic1\", \"Topic1\", \"Topic1\", \"Topic1\", \"Topic1\", \"Topic1\", \"Topic1\", \"Topic1\", \"Topic1\", \"Topic1\", \"Topic1\", \"Topic1\", \"Topic1\", \"Topic1\", \"Topic1\", \"Topic1\", \"Topic1\", \"Topic1\", \"Topic1\", \"Topic1\", \"Topic1\", \"Topic1\", \"Topic1\", \"Topic1\", \"Topic1\", \"Topic1\", \"Topic1\", \"Topic1\", \"Topic1\", \"Topic1\", \"Topic1\", \"Topic1\", \"Topic1\", \"Topic1\", \"Topic1\", \"Topic1\", \"Topic1\", \"Topic1\", \"Topic1\", \"Topic1\", \"Topic1\", \"Topic1\", \"Topic1\", \"Topic1\", \"Topic1\", \"Topic1\", \"Topic1\", \"Topic1\", \"Topic1\", \"Topic1\", \"Topic2\", \"Topic2\", \"Topic2\", \"Topic2\", \"Topic2\", \"Topic2\", \"Topic2\", \"Topic2\", \"Topic2\", \"Topic2\", \"Topic2\", \"Topic2\", \"Topic2\", \"Topic2\", \"Topic2\", \"Topic2\", \"Topic2\", \"Topic2\", \"Topic2\", \"Topic2\", \"Topic2\", \"Topic2\", \"Topic2\", \"Topic2\", \"Topic2\", \"Topic2\", \"Topic2\", \"Topic2\", \"Topic2\", \"Topic2\", \"Topic2\", \"Topic2\", \"Topic2\", \"Topic2\", \"Topic2\", \"Topic2\", \"Topic2\", \"Topic2\", \"Topic2\", \"Topic2\", \"Topic2\", \"Topic2\", \"Topic2\", \"Topic2\", \"Topic2\", \"Topic2\", \"Topic2\", \"Topic2\", \"Topic2\", \"Topic2\", \"Topic2\", \"Topic2\", \"Topic2\", \"Topic2\", \"Topic2\", \"Topic2\", \"Topic2\", \"Topic2\", \"Topic2\", \"Topic2\", \"Topic2\", \"Topic2\", \"Topic2\", \"Topic2\", \"Topic2\", \"Topic2\", \"Topic2\", \"Topic2\", \"Topic2\", \"Topic2\", \"Topic2\", \"Topic2\", \"Topic2\", \"Topic2\", \"Topic2\", \"Topic3\", \"Topic3\", \"Topic3\", \"Topic3\", \"Topic3\", \"Topic3\", \"Topic3\", \"Topic3\", \"Topic3\", \"Topic3\", \"Topic3\", \"Topic3\", \"Topic3\", \"Topic3\", \"Topic3\", \"Topic3\", \"Topic3\", \"Topic3\", \"Topic3\", \"Topic3\", \"Topic3\", \"Topic3\", \"Topic3\", \"Topic3\", \"Topic3\", \"Topic3\", \"Topic3\", \"Topic3\", \"Topic3\", \"Topic3\", \"Topic3\", \"Topic3\", \"Topic3\", \"Topic3\", \"Topic3\", \"Topic3\", \"Topic3\", \"Topic3\", \"Topic3\", \"Topic3\", \"Topic3\", \"Topic3\", \"Topic3\", \"Topic3\", \"Topic3\", \"Topic3\", \"Topic3\", \"Topic3\", \"Topic3\", \"Topic3\", \"Topic3\", \"Topic3\", \"Topic3\", \"Topic3\", \"Topic3\", \"Topic3\", \"Topic3\", \"Topic3\", \"Topic3\", \"Topic3\", \"Topic3\", \"Topic3\", \"Topic3\", \"Topic3\", \"Topic3\", \"Topic3\", \"Topic3\", \"Topic3\", \"Topic3\", \"Topic3\", \"Topic3\", \"Topic3\", \"Topic3\", \"Topic3\", \"Topic3\", \"Topic4\", \"Topic4\", \"Topic4\", \"Topic4\", \"Topic4\", \"Topic4\", \"Topic4\", \"Topic4\", \"Topic4\", \"Topic4\", \"Topic4\", \"Topic4\", \"Topic4\", \"Topic4\", \"Topic4\", \"Topic4\", \"Topic4\", \"Topic4\", \"Topic4\", \"Topic4\", \"Topic4\", \"Topic4\", \"Topic4\", \"Topic4\", \"Topic4\", \"Topic4\", \"Topic4\", \"Topic4\", \"Topic4\", \"Topic4\", \"Topic4\", \"Topic4\", \"Topic4\", \"Topic4\", \"Topic4\", \"Topic4\", \"Topic4\", \"Topic4\", \"Topic4\", \"Topic4\", \"Topic4\", \"Topic4\", \"Topic4\", \"Topic4\", \"Topic4\", \"Topic4\", \"Topic4\", \"Topic4\", \"Topic4\", \"Topic4\", \"Topic4\", \"Topic4\", \"Topic4\", \"Topic4\", \"Topic4\", \"Topic4\", \"Topic4\", \"Topic4\", \"Topic4\", \"Topic4\", \"Topic4\", \"Topic4\", \"Topic4\", \"Topic4\", \"Topic4\", \"Topic4\", \"Topic4\", \"Topic4\", \"Topic4\", \"Topic4\", \"Topic4\", \"Topic4\", \"Topic4\", \"Topic4\", \"Topic4\", \"Topic4\", \"Topic4\", \"Topic4\", \"Topic5\", \"Topic5\", \"Topic5\", \"Topic5\", \"Topic5\", \"Topic5\", \"Topic5\", \"Topic5\", \"Topic5\", \"Topic5\", \"Topic5\", \"Topic5\", \"Topic5\", \"Topic5\", \"Topic5\", \"Topic5\", \"Topic5\", \"Topic5\", \"Topic5\", \"Topic5\", \"Topic5\", \"Topic5\", \"Topic5\", \"Topic5\", \"Topic5\", \"Topic5\", \"Topic5\", \"Topic5\", \"Topic5\", \"Topic5\", \"Topic5\", \"Topic5\", \"Topic5\", \"Topic5\", \"Topic5\", \"Topic5\", \"Topic5\", \"Topic5\", \"Topic5\", \"Topic5\", \"Topic5\", \"Topic5\", \"Topic5\", \"Topic5\", \"Topic5\", \"Topic5\", \"Topic5\", \"Topic5\", \"Topic5\", \"Topic5\", \"Topic5\", \"Topic5\", \"Topic5\", \"Topic5\", \"Topic5\", \"Topic5\", \"Topic5\", \"Topic5\", \"Topic5\", \"Topic5\", \"Topic5\", \"Topic5\", \"Topic5\", \"Topic5\", \"Topic5\", \"Topic5\", \"Topic5\", \"Topic5\", \"Topic5\", \"Topic5\", \"Topic5\", \"Topic5\", \"Topic5\", \"Topic5\", \"Topic6\", \"Topic6\", \"Topic6\", \"Topic6\", \"Topic6\", \"Topic6\", \"Topic6\", \"Topic6\", \"Topic6\", \"Topic6\", \"Topic6\", \"Topic6\", \"Topic6\", \"Topic6\", \"Topic6\", \"Topic6\", \"Topic6\", \"Topic6\", \"Topic6\", \"Topic6\", \"Topic6\", \"Topic6\", \"Topic6\", \"Topic6\", \"Topic6\", \"Topic6\", \"Topic6\", \"Topic6\", \"Topic6\", \"Topic6\", \"Topic6\", \"Topic6\", \"Topic6\", \"Topic6\", \"Topic6\", \"Topic6\", \"Topic6\", \"Topic6\", \"Topic6\", \"Topic6\", \"Topic6\", \"Topic6\", \"Topic6\", \"Topic6\", \"Topic6\", \"Topic6\", \"Topic6\", \"Topic6\", \"Topic6\", \"Topic6\", \"Topic6\", \"Topic6\", \"Topic6\", \"Topic6\", \"Topic6\", \"Topic6\", \"Topic6\", \"Topic6\", \"Topic6\", \"Topic6\", \"Topic6\", \"Topic6\", \"Topic6\", \"Topic6\", \"Topic6\", \"Topic6\", \"Topic6\", \"Topic6\", \"Topic6\", \"Topic6\", \"Topic6\", \"Topic6\", \"Topic6\", \"Topic6\", \"Topic6\", \"Topic6\", \"Topic6\", \"Topic6\", \"Topic6\", \"Topic6\", \"Topic6\", \"Topic6\", \"Topic6\", \"Topic6\", \"Topic6\"], \"logprob\": [30.0, 29.0, 28.0, 27.0, 26.0, 25.0, 24.0, 23.0, 22.0, 21.0, 20.0, 19.0, 18.0, 17.0, 16.0, 15.0, 14.0, 13.0, 12.0, 11.0, 10.0, 9.0, 8.0, 7.0, 6.0, 5.0, 4.0, 3.0, 2.0, 1.0, -6.866300106048584, -7.109099864959717, -7.194699764251709, -7.422500133514404, -6.153800010681152, -7.627299785614014, -7.670499801635742, -7.812099933624268, -6.488100051879883, -7.0742998123168945, -8.326700210571289, -7.217899799346924, -7.3354997634887695, -8.144200325012207, -6.485300064086914, -8.100600242614746, -7.811500072479248, -7.547699928283691, -7.068999767303467, -6.810500144958496, -5.876999855041504, -7.337800025939941, -7.331500053405762, -7.572199821472168, -7.270100116729736, -6.770500183105469, -7.030700206756592, -9.248000144958496, -7.7154998779296875, -8.785699844360352, -4.310699939727783, -6.960700035095215, -6.505300045013428, -5.020599842071533, -5.385000228881836, -5.827899932861328, -4.805699825286865, -6.5879998207092285, -6.486800193786621, -5.641300201416016, -5.500100135803223, -6.480599880218506, -5.778200149536133, -5.482100009918213, -6.006899833679199, -6.21560001373291, -4.62939977645874, -5.062699794769287, -5.597700119018555, -5.55109977722168, -6.405600070953369, -4.976799964904785, -5.0096001625061035, -6.029099941253662, -5.442200183868408, -4.5690999031066895, -5.1971001625061035, -4.8506999015808105, -5.907599925994873, -5.589000225067139, -5.243199825286865, -6.188000202178955, -5.571199893951416, -5.537600040435791, -5.6280999183654785, -5.638299942016602, -5.190100193023682, -5.489200115203857, -5.861299991607666, -5.821400165557861, -5.842599868774414, -7.032400131225586, -6.758600234985352, -7.5630998611450195, -8.601200103759766, -7.66349983215332, -8.30739974975586, -7.8643999099731445, -6.750899791717529, -7.764100074768066, -7.3765997886657715, -8.243800163269043, -7.49370002746582, -8.146699905395508, -7.56689977645874, -7.714000225067139, -7.359799861907959, -8.400899887084961, -8.325499534606934, -8.354399681091309, -6.872200012207031, -7.322199821472168, -7.997300148010254, -6.522200107574463, -7.815999984741211, -8.387999534606934, -8.388199806213379, -7.140200138092041, -8.258500099182129, -8.464500427246094, -7.876200199127197, -6.000899791717529, -7.918499946594238, -6.84119987487793, -7.10099983215332, -6.953499794006348, -5.954899787902832, -6.509699821472168, -6.622300148010254, -6.194699764251709, -5.51609992980957, -5.317800045013428, -7.042799949645996, -6.435100078582764, -6.71619987487793, -6.524799823760986, -5.709400177001953, -5.5243000984191895, -5.947700023651123, -5.763700008392334, -6.113399982452393, -6.622099876403809, -6.16949987411499, -6.4679999351501465, -5.841700077056885, -6.351500034332275, -6.50600004196167, -6.2947001457214355, -5.92579984664917, -6.0167999267578125, -6.181399822235107, -5.935699939727783, -6.258900165557861, -6.2652997970581055, -6.236599922180176, -6.366000175476074, -6.406799793243408, -6.259900093078613, -6.305600166320801, -6.212100028991699, -6.15500020980835, -6.250199794769287, -6.394599914550781, -6.3196001052856445, -6.299900054931641, -6.375, -6.855199813842773, -7.835400104522705, -8.435500144958496, -7.609300136566162, -8.596400260925293, -7.380300045013428, -8.48740005493164, -8.847200393676758, -7.180500030517578, -7.539700031280518, -7.938199996948242, -9.126899719238281, -8.95259952545166, -8.059700012207031, -9.092700004577637, -9.073100090026855, -9.204000473022461, -8.450699806213379, -9.369500160217285, -7.571800231933594, -9.392200469970703, -8.911299705505371, -9.423600196838379, -5.572400093078613, -7.347599983215332, -7.031300067901611, -9.522500038146973, -6.758999824523926, -6.82390022277832, -5.008200168609619, -7.385000228881836, -6.7153000831604, -8.366900444030762, -6.829899787902832, -6.313899993896484, -7.276299953460693, -6.799300193786621, -4.563799858093262, -7.3277997970581055, -5.3649001121521, -7.559700012207031, -6.427199840545654, -7.346399784088135, -4.874100208282471, -5.488500118255615, -5.6743998527526855, -5.69920015335083, -6.006899833679199, -6.788300037384033, -5.513899803161621, -6.002099990844727, -5.482600212097168, -6.636499881744385, -5.412199974060059, -6.784800052642822, -5.852799892425537, -5.602499961853027, -6.739299774169922, -6.9257001876831055, -5.968200206756592, -6.535399913787842, -6.004899978637695, -6.200300216674805, -5.895500183105469, -6.438399791717529, -6.106500148773193, -6.3694000244140625, -6.223599910736084, -6.334499835968018, -6.298099994659424, -6.252299785614014, -6.507400035858154, -6.457499980926514, -6.402599811553955, -6.412799835205078, -7.176499843597412, -7.973700046539307, -8.759599685668945, -7.383900165557861, -6.034999847412109, -7.592199802398682, -7.847700119018555, -8.2475004196167, -7.548900127410889, -6.615799903869629, -7.079899787902832, -7.315800189971924, -8.013299942016602, -7.115799903869629, -8.005599975585938, -8.220399856567383, -8.160699844360352, -8.206399917602539, -8.075499534606934, -5.9934000968933105, -7.7855000495910645, -8.610300064086914, -8.308500289916992, -7.683000087738037, -8.370200157165527, -8.073800086975098, -7.129499912261963, -7.86899995803833, -8.581000328063965, -7.718999862670898, -7.377999782562256, -5.895500183105469, -7.318399906158447, -7.0015997886657715, -6.352700233459473, -7.372200012207031, -6.499300003051758, -5.501999855041504, -5.883699893951416, -6.421899795532227, -6.387199878692627, -6.3867998123168945, -6.808499813079834, -5.517899990081787, -6.086100101470947, -5.982900142669678, -6.672800064086914, -6.918600082397461, -6.403900146484375, -7.003799915313721, -6.439499855041504, -6.077499866485596, -6.76639986038208, -6.725500106811523, -6.303800106048584, -6.612100124359131, -6.493800163269043, -5.8927001953125, -6.216700077056885, -5.861999988555908, -6.42710018157959, -6.492700099945068, -6.268499851226807, -6.028200149536133, -6.19890022277832, -5.961100101470947, -6.40939998626709, -6.114699840545654, -5.998600006103516, -6.396299839019775, -6.2530999183654785, -6.010499954223633, -6.280099868774414, -6.348599910736084, -6.365900039672852, -6.353799819946289, -6.354599952697754, -6.392199993133545, -6.739299774169922, -7.761000156402588, -6.953800201416016, -7.615699768066406, -6.054500102996826, -8.735400199890137, -7.727200031280518, -7.559700012207031, -7.93209981918335, -8.149200439453125, -6.507800102233887, -8.302300453186035, -8.77239990234375, -7.8308000564575195, -8.81719970703125, -8.102399826049805, -7.9475998878479, -6.097099781036377, -7.44950008392334, -8.133000373840332, -6.8471999168396, -7.947999954223633, -9.059200286865234, -8.127699851989746, -9.671600341796875, -8.304300308227539, -8.6983003616333, -7.3018999099731445, -7.690800189971924, -5.737400054931641, -5.82889986038208, -6.088799953460693, -6.511300086975098, -7.145599842071533, -5.231599807739258, -5.279600143432617, -7.032599925994873, -5.745100021362305, -5.122499942779541, -5.991600036621094, -5.897799968719482, -6.814599990844727, -7.139500141143799, -7.035900115966797, -5.62529993057251, -4.884799957275391, -6.224299907684326, -6.498799800872803, -6.314199924468994, -6.0457000732421875, -6.485599994659424, -6.5578999519348145, -6.979599952697754, -6.592100143432617, -6.3043999671936035, -6.72629976272583, -6.689899921417236, -5.870299816131592, -6.201000213623047, -6.251100063323975, -5.464300155639648, -5.712900161743164, -6.058899879455566, -6.360499858856201, -5.947000026702881, -6.085100173950195, -5.8242998123168945, -6.032100200653076, -6.266499996185303, -6.167500019073486, -6.150100231170654, -6.254899978637695, -6.252399921417236, -6.262599945068359, -7.299799919128418, -6.975399971008301, -7.506199836730957, -7.508299827575684, -7.50629997253418, -7.695499897003174, -7.848199844360352, -7.5920000076293945, -7.240600109100342, -6.970099925994873, -7.136300086975098, -7.483799934387207, -7.803800106048584, -7.470399856567383, -7.926000118255615, -7.331999778747559, -7.348700046539307, -7.9492998123168945, -8.03219985961914, -7.547900199890137, -7.499499797821045, -6.279699802398682, -7.23859977722168, -8.125699996948242, -7.390100002288818, -8.337300300598145, -8.007100105285645, -7.684199810028076, -7.907400131225586, -7.319399833679199, -6.666500091552734, -6.793099880218506, -7.416100025177002, -5.1331000328063965, -6.293799877166748, -7.407199859619141, -6.991300106048584, -7.038899898529053, -4.946499824523926, -5.9344000816345215, -6.926300048828125, -6.817999839782715, -7.109600067138672, -6.194200038909912, -4.237299919128418, -6.196300029754639, -5.9019999504089355, -6.737599849700928, -5.855100154876709, -5.815000057220459, -6.4882001876831055, -6.0055999755859375, -6.048399925231934, -6.46120023727417, -6.420599937438965, -6.983500003814697, -5.743800163269043, -5.767499923706055, -5.9980998039245605, -5.684999942779541, -6.256899833679199, -6.1528000831604, -6.066199779510498, -6.416399955749512, -5.916200160980225, -5.429200172424316, -6.462600231170654, -5.660200119018555, -6.166100025177002, -5.7677998542785645, -6.009099960327148, -5.6149001121521, -6.115600109100342, -5.789400100708008, -5.718900203704834, -5.796899795532227, -5.949900150299072, -5.797299861907959, -6.073500156402588, -5.711299896240234, -6.043799877166748, -5.977499961853027, -5.963900089263916, -5.981500148773193, -6.064799785614014], \"loglift\": [30.0, 29.0, 28.0, 27.0, 26.0, 25.0, 24.0, 23.0, 22.0, 21.0, 20.0, 19.0, 18.0, 17.0, 16.0, 15.0, 14.0, 13.0, 12.0, 11.0, 10.0, 9.0, 8.0, 7.0, 6.0, 5.0, 4.0, 3.0, 2.0, 1.0, 1.8844, 1.8829, 1.8826, 1.8826, 1.8823, 1.8819, 1.8812, 1.8809, 1.8775, 1.8765, 1.8742, 1.8728, 1.8713, 1.8698, 1.8691, 1.8681, 1.8639, 1.8637, 1.8618, 1.86, 1.8568, 1.856, 1.8557, 1.8545, 1.8535, 1.8523, 1.8494, 1.8491, 1.8489, 1.8476, 1.8398, 1.8467, 1.841, 1.7983, 1.8034, 1.7997, 1.7491, 1.8199, 1.8131, 1.7601, 1.7499, 1.8066, 1.7607, 1.7415, 1.7623, 1.7774, 1.6179, 1.6467, 1.6809, 1.6681, 1.7751, 1.5493, 1.5451, 1.7053, 1.5822, 1.3866, 1.516, 1.3883, 1.6466, 1.5561, 1.4584, 1.707, 1.4331, 1.4146, 1.419, 1.4064, 1.0033, 1.1564, 1.4225, 0.618, 0.6998, 1.8252, 1.8222, 1.8217, 1.8204, 1.819, 1.8159, 1.8152, 1.8123, 1.8109, 1.8036, 1.8028, 1.7974, 1.788, 1.7808, 1.7792, 1.7783, 1.7684, 1.7574, 1.739, 1.7389, 1.7376, 1.7361, 1.7357, 1.7298, 1.7273, 1.7273, 1.7169, 1.7166, 1.7135, 1.713, 1.6941, 1.7111, 1.6773, 1.6786, 1.6628, 1.6022, 1.6343, 1.636, 1.6034, 1.5243, 1.4952, 1.6456, 1.5474, 1.5819, 1.5383, 1.4007, 1.3659, 1.4106, 1.3541, 1.4223, 1.5073, 1.3469, 1.4155, 1.0774, 1.3092, 1.3826, 1.2492, 0.9816, 0.9774, 1.0909, 0.8221, 1.122, 1.1183, 1.0572, 1.1735, 1.1736, 0.8903, 0.9603, 0.7304, 0.3711, 0.2754, 0.9712, 0.4857, 0.2613, 0.2593, 1.7408, 1.7328, 1.7318, 1.7314, 1.7306, 1.7293, 1.7271, 1.7253, 1.724, 1.7227, 1.7214, 1.7188, 1.7179, 1.717, 1.7163, 1.7161, 1.7156, 1.7135, 1.7103, 1.7102, 1.7091, 1.709, 1.7082, 1.7057, 1.7053, 1.7045, 1.704, 1.7019, 1.7014, 1.7013, 1.6981, 1.6865, 1.6998, 1.6808, 1.6694, 1.6875, 1.6752, 1.5928, 1.6651, 1.5828, 1.6696, 1.6189, 1.66, 1.5123, 1.5322, 1.5451, 1.5343, 1.547, 1.6128, 1.4324, 1.4856, 1.4017, 1.5604, 1.3603, 1.5574, 1.3498, 1.2287, 1.5136, 1.5648, 1.1123, 1.3362, 0.9994, 1.1154, 0.6306, 1.1353, 0.6261, 0.9792, 0.5791, 0.7059, 0.6282, 0.4002, 1.0537, 0.8259, 0.5528, 0.4457, 1.5784, 1.5743, 1.5659, 1.5534, 1.5522, 1.5477, 1.5368, 1.5313, 1.5274, 1.509, 1.5084, 1.5026, 1.5002, 1.4982, 1.4935, 1.4908, 1.4905, 1.4901, 1.4852, 1.4821, 1.4807, 1.4799, 1.479, 1.4739, 1.4719, 1.4693, 1.4629, 1.4599, 1.4585, 1.4557, 1.4506, 1.4229, 1.4471, 1.4287, 1.4002, 1.4352, 1.381, 1.3163, 1.3382, 1.3551, 1.319, 1.312, 1.3443, 1.1656, 1.2401, 1.2174, 1.3048, 1.3424, 1.2318, 1.3474, 1.1698, 1.0365, 1.2421, 1.2221, 1.0335, 1.1339, 1.067, 0.7252, 0.9055, 0.6743, 1.0287, 1.0521, 0.8817, 0.6545, 0.7697, 0.5309, 0.9263, 0.6006, 0.4408, 0.8988, 0.6438, 0.1829, 0.2811, 0.6161, 0.6692, 0.5537, 0.1879, 0.8066, 1.7276, 1.7256, 1.722, 1.7198, 1.7172, 1.716, 1.716, 1.7155, 1.7151, 1.7148, 1.7139, 1.7117, 1.709, 1.707, 1.703, 1.7023, 1.7008, 1.6975, 1.6948, 1.6935, 1.6932, 1.6904, 1.6903, 1.6871, 1.6861, 1.6861, 1.6848, 1.6845, 1.6843, 1.6829, 1.6803, 1.6786, 1.6824, 1.6808, 1.6601, 1.6548, 1.6774, 1.6405, 1.6192, 1.6419, 1.6366, 1.6539, 1.6602, 1.6479, 1.5566, 1.4939, 1.5931, 1.6101, 1.588, 1.5478, 1.5912, 1.5897, 1.6415, 1.5625, 1.4834, 1.5777, 1.5602, 1.2495, 1.3705, 1.3881, 1.0613, 1.0985, 1.2718, 1.4056, 1.0089, 1.1216, 0.7932, 0.874, 1.1828, 0.9696, 0.8447, 0.8986, 0.8249, 0.5981, 1.9862, 1.9847, 1.9838, 1.9838, 1.9837, 1.9782, 1.9777, 1.9767, 1.9765, 1.9763, 1.9729, 1.9719, 1.9704, 1.9696, 1.9682, 1.9673, 1.9653, 1.9652, 1.9638, 1.963, 1.9629, 1.962, 1.9607, 1.9594, 1.9581, 1.9572, 1.956, 1.9553, 1.9552, 1.9544, 1.9499, 1.9488, 1.9536, 1.9171, 1.9317, 1.9505, 1.9335, 1.9344, 1.8387, 1.8808, 1.9213, 1.9136, 1.932, 1.8596, 1.6752, 1.8484, 1.7989, 1.8906, 1.7904, 1.7804, 1.8592, 1.7989, 1.7991, 1.8482, 1.8344, 1.908, 1.671, 1.6666, 1.7102, 1.6252, 1.7578, 1.7198, 1.6853, 1.7752, 1.6236, 1.442, 1.7866, 1.4731, 1.6347, 1.3986, 1.5177, 1.1886, 1.533, 1.2155, 1.0991, 1.1103, 1.2759, 0.9278, 1.404, 0.2443, 1.2891, 0.7818, 0.692, 0.6359, 0.8958]}, \"token.table\": {\"Topic\": [1, 2, 3, 4, 5, 5, 6, 1, 2, 3, 4, 5, 6, 1, 2, 3, 4, 5, 6, 2, 3, 4, 5, 6, 3, 4, 5, 6, 4, 5, 6, 1, 2, 3, 4, 5, 6, 1, 2, 3, 4, 5, 6, 1, 2, 3, 4, 5, 6, 2, 5, 1, 2, 3, 4, 5, 6, 1, 2, 3, 4, 5, 6, 1, 2, 3, 4, 5, 6, 1, 2, 3, 4, 5, 6, 2, 3, 4, 5, 1, 2, 1, 4, 1, 2, 3, 4, 5, 6, 1, 2, 3, 4, 5, 6, 1, 2, 3, 4, 5, 6, 2, 3, 4, 5, 6, 3, 4, 5, 5, 6, 4, 5, 6, 1, 2, 3, 4, 5, 6, 5, 1, 2, 3, 4, 3, 4, 1, 4, 5, 6, 1, 2, 4, 6, 1, 2, 3, 4, 5, 6, 3, 1, 2, 3, 4, 5, 6, 1, 2, 3, 5, 1, 2, 3, 4, 5, 6, 1, 2, 3, 4, 5, 6, 2, 3, 4, 5, 1, 2, 3, 4, 5, 6, 1, 2, 3, 4, 5, 6, 3, 3, 1, 2, 3, 4, 2, 3, 5, 6, 1, 2, 3, 4, 5, 6, 1, 2, 3, 4, 5, 6, 2, 3, 6, 2, 4, 5, 6, 1, 2, 3, 4, 5, 6, 1, 2, 3, 4, 5, 6, 1, 6, 1, 2, 3, 4, 5, 6, 1, 4, 3, 5, 1, 4, 5, 6, 1, 2, 3, 4, 3, 5, 1, 2, 3, 4, 5, 6, 1, 2, 3, 4, 5, 6, 1, 2, 3, 4, 5, 6, 1, 2, 3, 4, 5, 6, 5, 1, 2, 3, 4, 5, 6, 1, 2, 3, 4, 5, 6, 1, 4, 6, 1, 2, 3, 4, 5, 6, 3, 4, 5, 6, 1, 2, 3, 4, 5, 6, 1, 2, 3, 4, 5, 6, 1, 2, 3, 4, 5, 6, 3, 1, 2, 3, 4, 5, 6, 1, 2, 4, 5, 6, 1, 1, 1, 2, 3, 4, 5, 6, 1, 2, 3, 4, 5, 6, 2, 3, 4, 1, 2, 3, 4, 5, 6, 1, 3, 4, 5, 6, 2, 3, 5, 1, 2, 3, 4, 5, 6, 2, 5, 1, 2, 3, 4, 5, 6, 1, 2, 3, 4, 5, 6, 1, 2, 3, 4, 5, 6, 4, 6, 1, 2, 3, 4, 5, 6, 1, 2, 3, 4, 5, 6, 1, 2, 3, 4, 5, 6, 1, 2, 3, 4, 5, 6, 1, 2, 3, 4, 5, 6, 4, 5, 6, 5, 6, 1, 2, 3, 4, 5, 6, 1, 3, 4, 6, 1, 2, 3, 4, 5, 6, 2, 3, 4, 5, 6, 1, 2, 3, 4, 5, 6, 1, 2, 3, 4, 5, 6, 1, 2, 3, 4, 5, 6, 1, 6, 1, 2, 4, 1, 2, 3, 4, 5, 6, 1, 2, 3, 4, 5, 6, 1, 2, 3, 4, 5, 6, 1, 3, 4, 5, 6, 1, 2, 3, 4, 5, 6, 1, 2, 3, 4, 5, 6, 1, 2, 3, 4, 5, 6, 2, 4, 5, 1, 2, 3, 4, 5, 6, 1, 2, 3, 4, 5, 6, 1, 2, 4, 5, 6, 1, 2, 3, 4, 5, 6, 1, 2, 3, 4, 5, 6, 1, 2, 4, 5, 1, 2, 3, 4, 5, 6, 1, 2, 3, 4, 6, 2, 3, 4, 5, 1, 2, 3, 4, 5, 6, 1, 2, 3, 4, 5, 6, 2, 3, 4, 5, 6, 1, 2, 4, 6, 1, 2, 3, 4, 5, 6, 1, 2, 3, 4, 5, 6, 1, 2, 3, 4, 5, 6, 1, 2, 4, 5, 6, 1, 2, 3, 4, 5, 6, 1, 2, 3, 4, 5, 6, 1, 2, 3, 4, 5, 6, 3, 4, 5, 6, 1, 2, 3, 4, 5, 6, 1, 2, 3, 4, 5, 6, 2, 4, 5, 1, 2, 4, 5, 6, 1, 2, 4, 5, 6, 1, 2, 3, 4, 5, 6, 1, 2, 3, 4, 5, 6, 1, 2, 3, 4, 5, 6, 1, 2, 3, 4, 5, 1, 2, 3, 4, 5, 6, 1, 2, 3, 4, 5, 6, 1, 2, 3, 4, 5, 6, 1, 2, 3, 4, 5, 6, 3, 4, 5, 6, 3, 5, 6, 1, 2, 3, 4, 5, 6, 2, 3, 4, 5, 1, 2, 3, 4, 5, 6, 3, 1, 2, 3, 4, 5, 6, 1, 2, 3, 4, 5, 6, 2, 3, 4, 5, 6, 2, 3, 4, 5, 6, 2, 3, 6, 1, 2, 3, 4, 5, 6, 1, 2, 3, 4, 5, 6, 1, 2, 3, 4, 5, 6, 2, 3, 4, 5, 6, 2, 4, 6, 1, 2, 3, 4, 5, 6, 1, 1, 2, 3, 4, 5, 6, 1, 2, 3, 4, 5, 6, 1, 3, 4, 6, 1, 2, 4, 1, 2, 3, 4, 5, 6, 1, 4, 1, 2, 3, 4, 5, 6, 2, 4, 1, 2, 3, 4, 5, 6, 1, 2, 3, 4, 5, 6, 1, 2, 3, 4, 5, 6, 1, 2, 3, 4, 5, 6, 1, 2, 3, 4, 5, 6, 1, 2, 3, 4, 5, 6, 1, 2, 3, 4, 5, 6, 1, 2, 3, 4, 5, 6, 1, 2, 3, 4, 5, 6, 2, 3, 5, 6, 1, 2, 3, 4, 5, 6, 4, 5, 1, 2, 3, 4, 5, 6, 2, 3, 4, 5, 6, 2, 3, 4, 5, 6, 1, 3, 4, 5, 6, 1, 2, 3, 4, 5, 6, 1, 2, 3, 4, 5, 6, 5, 6, 1, 2, 3, 4, 5, 6, 1, 2, 3, 4, 5, 6, 2, 5, 1, 2, 3, 4, 5, 6, 1, 2, 3, 4, 5, 6, 1, 2, 3, 4, 5, 6, 1, 2, 3, 4, 5, 6, 1, 2, 3, 4, 5, 6, 1, 2, 3, 4, 5, 6, 2, 4, 5, 2, 4, 5, 6, 1, 2, 3, 4, 5, 6, 2, 3, 2, 3, 4, 5, 6, 1, 2, 3, 4, 5, 6, 1, 2, 3, 4, 5, 6, 1, 2, 3, 4, 5, 6, 1, 2, 3, 4, 5, 6, 1, 2, 3, 4, 6, 1, 2, 3, 4, 5, 6, 1, 2, 3, 4, 5, 6, 1, 2, 3, 4, 5, 6, 1, 2, 3, 4, 5, 6, 3, 5, 4, 1, 2, 3, 4, 5, 6, 1, 2, 3, 4, 5, 6, 1, 2, 3, 4, 5, 6, 2, 4, 1, 2, 3, 4, 5, 6, 2, 4, 5, 6, 2, 4, 1, 2, 3, 4, 5, 6, 1, 4, 1, 2, 3, 4, 5, 6, 1, 2, 3, 4, 5, 6, 1, 2, 3, 4, 5, 6, 1, 2, 3, 4, 5, 6, 1, 2, 3, 4, 5, 6, 1, 2, 3, 4, 5, 6, 2, 5, 1, 2, 4, 2, 3, 4, 5, 6, 1, 2, 3, 4, 5, 6, 2, 4, 5, 2, 4, 3, 4, 5, 6, 1, 2, 3, 4, 5, 6, 3, 4, 6, 3, 4, 5, 6, 4, 5, 6, 2, 3, 4, 5, 1, 2, 3, 4, 5, 6, 1, 2, 3, 4, 5, 6, 2, 4, 1, 2, 3, 4, 5, 6, 1, 2, 3, 4, 5, 6, 1, 1, 4, 5, 2, 4, 5, 1, 2, 3, 4, 5, 6, 3, 1, 2, 3, 4, 5, 6, 1, 2, 3, 4, 5, 6, 3, 2, 3, 1, 2, 3, 4, 5, 6, 1, 2, 3, 4, 5, 6, 1, 2, 3, 4, 5, 6, 3, 1, 2, 3, 4, 5, 6, 1, 2, 3, 4, 5, 6, 1, 2, 3, 4, 5, 6, 1, 2, 3, 4, 5, 6, 1, 2, 3, 4, 5, 6, 1, 2, 3, 4, 5, 6, 1, 2, 3, 4, 5, 6, 1, 2, 3, 4, 5, 6, 1, 2, 3, 4, 5, 6, 2, 3, 4, 5, 1, 2, 3, 4, 5, 6, 1, 2, 3, 4, 5, 6, 2, 4, 5, 6, 2, 4, 5, 6, 2, 3, 4, 5, 6, 2, 3, 6, 1, 2, 3, 4, 5, 6, 1, 3, 4, 1, 2, 3, 4, 5, 6, 1, 2, 3, 4, 6, 1, 2, 3, 4, 6, 1, 3, 5, 6, 5, 6, 1, 2, 3, 4, 5, 6, 1, 2, 3, 4, 5, 6, 2, 3, 4, 5, 6, 3, 5, 1, 2, 3, 4, 5, 6, 1, 4, 1, 4, 5, 6, 1, 2, 3, 4, 5, 6, 1, 2, 3, 4, 5, 6, 1, 2, 3, 4, 5, 6, 1, 2, 4, 5, 6, 1, 2, 3, 4, 5, 6, 1, 2, 3, 4, 5, 6, 1, 2, 3, 4, 5, 6, 2, 3, 4, 5, 6, 1, 2, 3, 4, 5, 6, 3, 5, 2, 4, 6, 2, 5, 1, 2, 4, 5, 6, 1, 2, 3, 4, 5, 6, 1, 2, 3, 4, 5, 6, 2, 3, 4, 6, 2, 4, 6, 1, 2, 3, 4, 5, 1, 2, 3, 4, 5, 4, 6, 5, 6, 1, 4, 1, 2, 3, 4, 5, 6, 2, 3, 4, 2, 3, 4, 5, 6, 1, 2, 3, 4, 5, 6, 1, 2, 3, 4, 5, 6, 1, 2, 4, 5, 1, 2, 3, 4, 5, 6, 1, 2, 3, 4, 5, 6, 5, 6, 5, 6, 2, 4, 6, 1, 2, 3, 4, 5, 6, 1, 2, 2, 3, 4, 5, 6, 1, 2, 3, 4, 5, 6, 1, 2, 3, 4, 5, 6, 6, 1, 2, 3, 4, 5, 6, 1, 2, 3, 4, 5, 6, 1, 4, 5, 6, 1, 2, 3, 4, 5, 6, 4, 5, 6, 1, 2, 4, 1, 2, 4, 1, 2, 3, 4, 5, 6, 1, 2, 3, 4, 5, 6, 5, 1, 2, 3, 4, 5, 6, 1, 2, 3, 4, 5, 6, 1, 2, 3, 4, 5, 6, 1, 2, 3, 4, 5, 6, 1, 2, 3, 4, 5, 6, 3, 5, 2, 3, 4, 5, 6, 2, 3, 5, 6, 1, 2, 3, 4, 5, 6, 1, 2, 3, 4, 5, 6, 1, 2, 4, 5, 6, 3, 5, 1, 2, 3, 4, 5, 6, 1, 2, 3, 4, 5, 6, 1, 2, 2, 4, 5, 6, 5, 6, 3, 5, 6, 5, 1, 4, 5, 6, 1, 2, 3, 4, 5, 6, 5, 6, 1, 2, 3, 4, 6, 1, 4, 1, 3, 4, 5, 6, 1, 2, 3, 4, 5, 6, 1, 2, 4, 2, 5, 3, 2, 5, 6, 1, 2, 3, 4, 5, 6, 1, 2, 3, 4, 5, 6, 2, 4, 5, 2, 3, 4, 5, 6, 5, 6, 1, 2, 3, 4, 5, 1, 2, 3, 4, 5, 6, 2, 3, 4, 5, 6, 1, 2, 3, 4, 5, 6, 1, 2, 3, 4, 5, 6, 1, 2, 3, 4, 5, 6, 1, 3, 4, 5, 6, 2, 3, 4, 5, 6, 1, 2, 3, 4, 5, 6, 6, 1, 2, 3, 4, 5, 6, 4, 5, 6, 1, 4, 6, 1, 4, 6, 3, 5, 1, 2, 3, 4, 5, 6, 1, 4, 5, 3, 1, 2, 3, 4, 5, 1, 2, 3, 4, 5, 6, 1, 2, 3, 4, 5, 6, 1, 2, 3, 4, 5, 6, 1, 2, 3, 4, 5, 6, 1, 2, 3, 4, 5, 6, 1, 2, 3, 4, 5, 6, 1, 2, 3, 4, 5, 6, 1, 1, 2, 3, 4, 5, 6, 4, 5, 6, 1, 2, 3, 4, 5, 6, 1, 2, 3, 4, 5, 6, 3, 5, 1, 2, 3, 4, 5, 6, 1, 2, 3, 4, 5, 6, 1, 2, 3, 4, 5, 6, 1, 4, 1, 2, 3, 4, 5, 6, 1, 2, 3, 4, 5, 6, 2, 3, 4, 5, 6, 2, 4, 5, 6, 1, 2, 3, 4, 5, 6, 1, 3, 5, 6, 1, 3, 4, 5, 6, 1, 2, 3, 4, 5, 6, 1, 2, 3, 4, 5, 6, 1, 2, 3, 4, 5, 6, 1, 2, 3, 4, 5, 6, 1, 2, 3, 4, 5, 6, 1, 2, 3, 4, 5, 6, 6, 1, 2, 3, 4, 5, 6, 1, 2, 3, 4, 5, 6, 1, 2, 2, 3, 4, 5, 1, 2, 3, 4, 5, 6, 2, 3, 5, 1, 2, 3, 4, 5, 6, 1, 2, 3, 4, 5, 6, 1, 2, 4, 5, 3, 1, 2, 3, 4, 5, 6, 1, 2, 3, 4, 5, 6, 1, 2, 3, 4, 5, 6, 3, 3, 4, 5, 6, 1, 2, 3, 4, 5, 6, 1, 3, 4, 6], \"Freq\": [0.004209379487817795, 0.027360966670815667, 0.8776556232100102, 0.021046897439088975, 0.06735007180508472, 0.022109773781186413, 0.9728300463722023, 0.002982699984376559, 0.008948099953129677, 0.002386159987501247, 0.005368859971877806, 0.12288723935631422, 0.857227975509823, 0.8000731269609592, 0.023017063491396986, 0.06905119047419096, 0.04971685714141749, 0.03682730158623518, 0.021175698412085227, 0.0038598111548707485, 0.8182799648325987, 0.005146414873160998, 0.10678810861809071, 0.06690339335109298, 0.9251179226318749, 0.0019767476979313564, 0.02767446777103899, 0.0454651970524212, 0.01034590449754806, 0.9518232137744215, 0.031037713492644177, 0.12802091597155882, 0.006447096487776344, 0.8160182125956915, 0.0018420275679360983, 0.038682578926658065, 0.008289124055712442, 0.004341123036086088, 0.02604673821651653, 0.028217299734559574, 0.021705615180430442, 0.8660540456991745, 0.05209347643303306, 0.007192288065889946, 0.6275271337488978, 0.030567224280032272, 0.16722069753194124, 0.14564383333427142, 0.023374936214142324, 0.010436324785977901, 0.9810145298819227, 0.07012344175352522, 0.8414813010423027, 0.0043827151095953264, 0.07012344175352522, 0.0043827151095953264, 0.008765430219190653, 0.14665085748531828, 0.5086538750616896, 0.015854146755169544, 0.2549875269789768, 0.03567183019913148, 0.03963536688792386, 0.021149774586389055, 0.011279879779407496, 0.011279879779407496, 0.01832980464153718, 0.11984872265620465, 0.8163812990346175, 0.10241017617580643, 0.09930683750381229, 0.12516799310376342, 0.5182575582230204, 0.13551245534374387, 0.018620032031964807, 0.8833627252148971, 0.06666888492187903, 0.033334442460939515, 0.016667221230469757, 0.9553389981299176, 0.04055684426023235, 0.9769266076642648, 0.020054211887536227, 0.18974705845162723, 0.11051756861943181, 0.0413810074282804, 0.423903002923848, 0.041885653860332606, 0.19277493704394041, 0.0038876009106602006, 0.006220161457056321, 0.0007775201821320401, 0.010107762367716521, 0.05209385220284669, 0.9268040571013918, 0.01200807903498829, 0.030020197587470727, 0.8735877497953981, 0.039026256863711944, 0.039026256863711944, 0.006004039517494145, 0.01649619632491761, 0.9182882620870805, 0.03299239264983522, 0.027493660541529356, 0.005498732108305871, 0.9731488514540972, 0.014206552575972222, 0.007103276287986111, 0.009648980685113249, 0.9841960298815513, 0.007184807174494036, 0.028739228697976144, 0.9627641613822008, 0.00883206815716012, 0.03785172067354337, 0.00883206815716012, 0.02649620447148036, 0.9059178481201381, 0.013878964246965903, 0.9866305947162984, 0.930841067730596, 0.0030222112588655717, 0.009066633776596715, 0.05439980265958029, 0.962643610330715, 0.01750261109692209, 0.06372508816149867, 0.009803859717153642, 0.004901929858576821, 0.9166608835538655, 0.015450015303629864, 0.030900030607259727, 0.8806508723069022, 0.061800061214519454, 0.07071212208627516, 0.6089561572606285, 0.026621034197185943, 0.09234171237148874, 0.04409108788908921, 0.15723048322712946, 0.9686246619517155, 0.8688235411086905, 0.007596271397671611, 0.06077017118137289, 0.037981356988358056, 0.006646737472962659, 0.018041144569470077, 0.07242859362504159, 0.869143123500499, 0.014485718725008319, 0.04345715617502496, 0.0012305087709398733, 0.017227122793158228, 0.01107457893845886, 0.019688140335037973, 0.9462612448527626, 0.00369152631281962, 0.04328966804817103, 0.48267979873710704, 0.012986900414451311, 0.032467251036128277, 0.40584063795160347, 0.021644834024085517, 0.9284423779783176, 0.050186074485314466, 0.006273259310664308, 0.006273259310664308, 0.010387438467830743, 0.0283923318120707, 0.003462479489276914, 0.015927405650673805, 0.92240453594337, 0.01938988513995072, 0.01724559983214678, 0.03605898146721599, 0.009406690817534607, 0.11444807161333773, 0.08936356276657877, 0.7352896655706218, 0.9687495403357163, 0.9620775063419046, 0.037616881080545284, 0.0470211013506816, 0.018808440540272642, 0.8934009256629504, 0.9735170509883802, 0.02263993141833442, 0.9784777189269024, 0.01438937821951327, 0.03046275418017972, 0.04061700557357296, 0.012000478919464739, 0.7818773572912795, 0.01938538902375073, 0.11446610661643289, 0.014563578543021047, 0.46797632384907634, 0.11262500739936276, 0.29709700227762936, 0.046603451337667356, 0.060196124644486995, 0.010356533302454235, 0.02071306660490847, 0.9631575971282438, 0.012216619075884427, 0.012216619075884427, 0.9651129069948697, 0.012216619075884427, 0.00506985944881386, 0.049684622598375826, 0.5313212702356925, 0.006083831338576632, 0.4055887559051088, 0.001013971889762772, 0.010017611645870615, 0.09892391500297233, 0.042574849494950114, 0.2141264489304844, 0.011269813101604442, 0.622344123499712, 0.013359737889873182, 0.9752608659607422, 0.6037456539950405, 0.026543989960126784, 0.021339286046376433, 0.06479856372619186, 0.10929878218875734, 0.17409734591494921, 0.9830973641952423, 0.010403146711060766, 0.9783369780682774, 0.019864710214584313, 0.007813082777732981, 0.015626165555465962, 0.007813082777732981, 0.9610091816611566, 0.06700134731322387, 0.019143242089492536, 0.009571621044746268, 0.9093039992508954, 0.9754934922903543, 0.018405537590384043, 0.1157294410263188, 0.15124429594444838, 0.043475081020468966, 0.13961011933333697, 0.5290488732631716, 0.022043703052632153, 0.10099278076225934, 0.024505601214371755, 0.47303236283499417, 0.0853983072622046, 0.06534826990499135, 0.2509967639532622, 0.08778076805131588, 0.7322200652085373, 0.034255909483440344, 0.019268949084435192, 0.1198956831920412, 0.004281988685430043, 0.02553661769762367, 0.8055642128250377, 0.053394746095031316, 0.00928604279913588, 0.10214647079049469, 0.00464302139956794, 0.9744284361025854, 0.2543986486346317, 0.09766675724547104, 0.08883024111373794, 0.4027591036884663, 0.04418258065866547, 0.11208423093408819, 0.27853022883996253, 0.041455661966878145, 0.002590978872929884, 0.5959251407738733, 0.07254740844203675, 0.007772936618789652, 0.9682332455819793, 0.01989520367634204, 0.01326346911756136, 0.007017921851543193, 0.03368602488740732, 0.8477649596664177, 0.024562726480401174, 0.052634413886573944, 0.034387817072561645, 0.9564777716231452, 0.004195077945715549, 0.008390155891431097, 0.029365545620008843, 0.005425327456525115, 0.01085065491305023, 0.9223056676092697, 0.01085065491305023, 0.04882794710872604, 0.005425327456525115, 0.08169447229729218, 0.13337873028129335, 0.02250766073496825, 0.13921404973109994, 0.6152093934224656, 0.007502553578322751, 0.20674336142998345, 0.025608694316100668, 0.5946213899738496, 0.034977728821991155, 0.0730784691459458, 0.06433403694044802, 0.9831559222633879, 0.06870008268483925, 0.14503350789021618, 0.11195569030121952, 0.19337801052028827, 0.46478574458385075, 0.016962983378972656, 0.01090317291227481, 0.047247082619857515, 0.886791396865018, 0.00726878194151654, 0.047247082619857515, 0.9933349623786846, 0.9865422647280001, 0.022327887745034802, 0.7221916794773326, 0.055434755780776064, 0.0831521336711641, 0.0523550471262885, 0.06467388174423874, 0.04816041394311083, 0.040556138057356486, 0.023657747200124618, 0.11490905782917672, 0.17743310400093465, 0.5948233581745618, 0.01587591178956171, 0.9525547073737027, 0.01587591178956171, 0.00729835518734225, 0.02653947340851727, 0.0145967103746845, 0.017250657715536227, 0.9268911087924657, 0.006634868352129317, 0.10573644493744414, 0.005157875362802153, 0.041263002902417224, 0.03610512753961507, 0.8149443073227401, 0.03180171402400674, 0.01590085701200337, 0.9461009922142006, 0.0026023872497636593, 0.8067400474267343, 0.013011936248818296, 0.12231220073889199, 0.049445357745509524, 0.0052047744995273185, 0.0150611564298721, 0.9789751679416865, 0.06277526220712655, 0.0011413684037659374, 0.014837789248957185, 0.17577073417995434, 0.023968736479084683, 0.7213448311800724, 0.20806032115337078, 0.15291180229344117, 0.01754725600088669, 0.5071992567875344, 0.10611911962441, 0.008355836190898424, 0.06522647712635275, 0.006988551120680651, 0.009318068160907536, 0.018636136321815072, 0.8642508219241739, 0.03494275560340326, 0.02862786619469317, 0.9590335175222212, 0.0289036973253804, 0.051785791041306546, 0.7695609412882531, 0.03733394237861635, 0.08309812981046864, 0.030108018047271246, 0.00516448514485473, 0.02383608528394491, 0.02065794057941892, 0.03575412792591736, 0.785001742017919, 0.129509396709434, 0.710736211797221, 0.05155599463814038, 0.049714709115349656, 0.11738195207790891, 0.05984177949069866, 0.010587391756046685, 0.6048890422774081, 0.08670882330761247, 0.08670882330761247, 0.13507231041146006, 0.06943614934195262, 0.016927220486346657, 0.005961452602896008, 0.008942178904344011, 0.019374720959412027, 0.02831689986375604, 0.11475796260574815, 0.8241708223503731, 0.007446159179512537, 0.029784636718050147, 0.956831454567361, 0.014792004666961943, 0.9762723080194883, 0.011653008924101312, 0.7010204842235684, 0.011039692664938086, 0.13492957701590994, 0.1024238152802589, 0.039252240586446524, 0.9706941846725786, 0.015719743881337307, 0.011789807911002979, 0.003929935970334327, 0.0025940260629260365, 0.0025940260629260365, 0.0025940260629260365, 0.010376104251704146, 0.12710727708337577, 0.8534345747026659, 0.02504876664408916, 0.0022771606040081055, 0.9268043658312989, 0.011385803020040526, 0.03188024845611347, 0.3036951683574968, 0.09031304698458688, 0.16752368300767928, 0.24754197852252052, 0.10809489043232937, 0.08282595500659004, 0.7077428274977482, 0.008053298572598207, 0.020843831599665946, 0.0284234067268172, 0.05589936656274049, 0.17906746237894836, 0.2618694257354144, 0.0016469775203485182, 0.0016469775203485182, 0.0181167527238337, 0.016469775203485183, 0.6983184686277717, 0.01218816591676968, 0.9811473562999592, 0.07334746168092195, 0.010478208811560278, 0.9116041666057442, 0.05223426493398951, 0.41574210865828387, 0.07142236225667954, 0.1940129840405325, 0.23345518409272864, 0.03304616761129949, 0.21122569977955558, 0.20407358804887085, 0.11777143983194183, 0.2717802457660196, 0.13445970053687284, 0.060554545986464016, 0.03955453557382065, 0.4109812720596975, 0.09261549792894591, 0.2103143598803147, 0.22767976574199203, 0.018330150631770546, 0.005711777109502955, 0.07139721386878693, 0.7882252411114077, 0.11994731929956204, 0.01142355421900591, 0.912753863799714, 0.0013850589738994142, 0.0027701179477988285, 0.03601153332138477, 0.006925294869497071, 0.0387816512691836, 0.14347191184082997, 0.024495204460629506, 0.16213492476321434, 0.5738876473633199, 0.08864931138132583, 0.008165068153543169, 0.41161250160219875, 0.07624898786696706, 0.038949699429879275, 0.246241320124491, 0.10265556375163097, 0.12411090665792039, 0.00790185156786819, 0.003950925783934095, 0.9877314459835238, 0.7342639163034405, 0.012124068793452061, 0.053800555270943524, 0.0394032235787192, 0.038645469279128444, 0.12199844223411137, 0.6162882455396423, 0.03170366131383355, 0.18558240769073298, 0.05954102246744349, 0.07191318298015903, 0.03479670144201243, 0.02852025627282836, 0.04991044847744963, 0.8983880725940934, 0.00713006406820709, 0.01426012813641418, 0.026627947287186444, 0.05746030730392864, 0.7294656085779233, 0.018219121828074933, 0.16257062554282248, 0.0056058836394076725, 0.0011257173543138981, 0.021388629731964065, 0.007880021480197287, 0.01238289089745288, 0.9489797296866161, 0.007880021480197287, 0.01044933518327201, 0.01044933518327201, 0.01044933518327201, 0.9613388368610248, 0.00580060437991529, 0.8932930745069547, 0.029003021899576452, 0.040604230659407034, 0.017401813139745873, 0.00580060437991529, 0.06482549974162927, 0.017286799931101136, 0.004321699982775284, 0.8729833965206074, 0.04753869981052813, 0.9702519090943335, 0.010780576767714815, 0.010780576767714815, 0.010780576767714815, 0.002212198151038306, 0.001106099075519153, 0.9540104526352695, 0.006083544915355342, 0.030417724576776706, 0.006083544915355342, 0.027083361579592086, 0.00466954509992967, 0.807831302287833, 0.012140817259817142, 0.06537363139901538, 0.08405181179873406, 0.9636625478645826, 0.007059798885454818, 0.021179396656364455, 0.003529899442727409, 0.003529899442727409, 0.013913923033267933, 0.9461467662622194, 0.027827846066535867, 0.013913923033267933, 0.18985974526975316, 0.046060648260709346, 0.1937917518285942, 0.12470077943753019, 0.10110874008448394, 0.34489314673262855, 0.0056604261181610405, 0.014151065295402603, 0.826422213251512, 0.028302130590805205, 0.0056604261181610405, 0.12169916154046237, 0.0019876959426891735, 0.6161857422336439, 0.00861334908498642, 0.15504028352975555, 0.17624237358510672, 0.04240418011070237, 0.918723475403467, 0.013392470486931004, 0.06428385833726882, 0.002678494097386201, 0.002678494097386201, 0.00523899864899339, 0.28919272542443514, 0.46312748057101566, 0.06496358324751804, 0.16869575649758714, 0.008382397838389424, 0.010429989668133029, 0.040561070931628446, 0.01738331611355505, 0.0347666322271101, 0.5748083194882203, 0.3221707919712202, 0.0009764793411640569, 0.006835355388148398, 0.9579262336819399, 0.00976479341164057, 0.011717752093968683, 0.011717752093968683, 0.927632488186319, 0.006871351764343104, 0.013742703528686208, 0.04809946235040173, 0.008590100631661783, 0.582695159514391, 0.08590100631661785, 0.11596635852743409, 0.12169309228187528, 0.08446932287800754, 0.016515619036924473, 0.004504259737343038, 0.0030028398248953584, 0.02252129868671519, 0.20119026826798903, 0.753712796048735, 0.9503329640595836, 0.021930760709067312, 0.029241014278756416, 0.009206120407691787, 0.032221421426921255, 0.8745814387307198, 0.036824481630767146, 0.041427541834613044, 0.01876666309697516, 0.00938333154848758, 0.014074997322731368, 0.023458328871218948, 0.9289498233002703, 0.1920480187006979, 0.6519524845365797, 0.03411379279551871, 0.10360485219379756, 0.011371264265172902, 0.007580842843448602, 0.007828028472782559, 0.06523357060652131, 0.026093428242608525, 0.7854121901025166, 0.0991550273219124, 0.015656056945565117, 0.01112596774434969, 0.02225193548869938, 0.02225193548869938, 0.9123293550366746, 0.02225193548869938, 0.01112596774434969, 0.03250833040077371, 0.016254165200386854, 0.016254165200386854, 0.893979086021277, 0.03250833040077371, 0.004510542312782605, 0.05683283314106082, 0.018944277713686942, 0.4591732074412692, 0.062245483916399946, 0.3969277235248692, 0.0380811496725711, 0.07101619803803799, 0.12762331241618421, 0.049402572548200345, 0.6288535797281336, 0.08542528169792976, 0.1961581467660111, 0.04532442027547984, 0.08396163100211838, 0.15900698260578172, 0.056469769523548645, 0.45993141230363965, 0.019108038422234765, 0.5477637681040632, 0.04458542298521445, 0.1554120458341761, 0.22292711492607226, 0.010190953825191874, 0.027702731863088203, 0.002518430169371655, 0.027702731863088203, 0.941892883344999, 0.015203391278777893, 0.040542376743407715, 0.9426102592842294, 0.0036200261260412475, 0.01448010450416499, 0.0036200261260412475, 0.9267266882665594, 0.01448010450416499, 0.03258023513437123, 0.8968799425471319, 0.032613816092622976, 0.016306908046311488, 0.04892072413893447, 0.018067753102777046, 0.0774332275833302, 0.010324430344444026, 0.04904104413610912, 0.8388599654860771, 0.005162215172222013, 0.9742181948163867, 0.12707259248789896, 0.1579821420119825, 0.32626746719865946, 0.21499308891195876, 0.10646622613850994, 0.06800100895298376, 0.05041886287574299, 0.006050263545089159, 0.222851373910784, 0.012100527090178318, 0.017142413377752616, 0.6927551759127086, 0.8406253857540986, 0.006752011130555009, 0.04051206678333005, 0.09790416139304763, 0.010128016695832513, 0.014731679066441438, 0.0016368532296046042, 0.014731679066441438, 0.9624696990075073, 0.006547412918418417, 0.9147494756216272, 0.05277400820894003, 0.017591336069646676, 0.6870588806250251, 0.06160220981371388, 0.06826190817195321, 0.10822009832138925, 0.05105768741316826, 0.023308944253837685, 0.004015879840091242, 0.028111158880638698, 0.036142918560821184, 0.022756652427183707, 0.8286098736721598, 0.0789789701884611, 0.011256871866486098, 0.07397372940833721, 0.024121868285327353, 0.7960216534158026, 0.019297494628261882, 0.07558185396069236, 0.03714210100787607, 0.003714210100787607, 0.917409894894539, 0.007428420201575214, 0.029713680806300855, 0.015396149013835618, 0.969957387871644, 0.010264099342557079, 0.1450483302591273, 0.12169908685156047, 0.10330271325771993, 0.11674621703783418, 0.4832585832535803, 0.029009666051825464, 0.9908950582529457, 0.7611370515413033, 0.009753701346982377, 0.011495433730372087, 0.03971149834128539, 0.02577763927416771, 0.15222741030826067, 0.06469981596150949, 0.06604772879404094, 0.08896224694707557, 0.19881714279838855, 0.16781514765016525, 0.4138092395871545, 0.9809538329094148, 0.006718861869242568, 0.006718861869242568, 0.006718861869242568, 0.9596019422376147, 0.024232372278727647, 0.014539423367236588, 0.9250775392679826, 0.008138512075671402, 0.0027128373585571337, 0.016277024151342804, 0.01356418679278567, 0.03526688566124274, 0.9916885275041629, 0.005902907901810493, 0.11315840070843104, 0.0707240004427694, 0.038190960239095476, 0.12023080075270799, 0.025460640159396985, 0.630858083949503, 0.004276147653185037, 0.9963424031921136, 0.006542490812066401, 0.9552036585616945, 0.006542490812066401, 0.013084981624132802, 0.013084981624132802, 0.006542490812066401, 0.02239281477894392, 0.021273174039996724, 0.0279910184736799, 0.09852838502735324, 0.10636587019998361, 0.7244075580988358, 0.06887938196783945, 0.46169645140819116, 0.20050037919351285, 0.08797465617674544, 0.16640167524903787, 0.014321455656679489, 0.0198109730245889, 0.6380784228336341, 0.15023321210313248, 0.15353504094056397, 0.02806554511816761, 0.009080029302936578, 0.8324369928160679, 0.014477165092453354, 0.03076397582146338, 0.0941015731009468, 0.0235253932752367, 0.005428936909670007, 0.8108482092422288, 0.02051543661938169, 0.03810009657885171, 0.09964640643699678, 0.01660773440616613, 0.014653883299558352, 0.0028449739697506784, 0.005689947939501357, 0.01706984381850407, 0.0654344013042656, 0.03413968763700814, 0.8762519826832089, 0.02312231590487326, 0.004204057437249684, 0.05465274668424589, 0.03573448821662231, 0.016816229748998737, 0.8660358320734349, 0.03539124982034425, 0.0141564999281377, 0.017695624910172125, 0.11502156191611881, 0.0566259997125508, 0.7609118711374013, 0.003349617367260951, 0.9345432454658053, 0.013398469469043803, 0.04354502577439236, 0.2125277259565083, 0.1477326875551338, 0.4989217956905835, 0.06479503840137447, 0.054427832257154564, 0.020734412288439835, 0.012963584458225753, 0.9852324188251571, 0.022833711005169594, 0.022833711005169594, 0.007611237001723197, 0.011416855502584797, 0.2435595840551423, 0.6913540276565238, 0.8922486450629363, 0.05462746806507773, 0.015607848018593638, 0.028614388034088337, 0.010405232012395758, 0.9736345619394555, 0.007185494922062403, 0.0035927474610312014, 0.014370989844124805, 0.0035927474610312014, 0.008216726865089532, 0.0027389089550298442, 0.024650180595268596, 0.09860072238107438, 0.8654952297894307, 0.879281403020227, 0.00957475212000247, 0.03670321646000947, 0.06383168080001647, 0.0063831680800016475, 0.004787376060001235, 0.060710686166826296, 0.15736848914295762, 0.13899551832931284, 0.19251678113427811, 0.40180888344623195, 0.048728313897057944, 0.9906424157389525, 0.006411925020964094, 0.003348997997095642, 0.005023496995643463, 0.04186247496369553, 0.011721492989834747, 0.8673904812477713, 0.07032895793900848, 0.002174659709718533, 0.01848460753260753, 0.022833926952044597, 0.01196062840345193, 0.9090077586623467, 0.03588188521035579, 0.029420041804733343, 0.9561513586538336, 0.021076728833271482, 0.07259762153682399, 0.018734870074019097, 0.786864543108802, 0.02341858759252387, 0.07962319781458116, 0.14741747691674092, 0.3575164007114662, 0.070226435854038, 0.17527589775140062, 0.07080681962142674, 0.1787582003557331, 0.006616717024338766, 0.4175883633138243, 0.014703815609641702, 0.21026456321787634, 0.2661390625345148, 0.0838117489749577, 0.018625565551969106, 0.05765056004180914, 0.028381814174429115, 0.033703404332134576, 0.8363765864527081, 0.024834087402625476, 0.014685227249690149, 0.04650321962401881, 0.8297153396074934, 0.03426553024927701, 0.009790151499793433, 0.06608352262360567, 0.019912983498044545, 0.019912983498044545, 0.003982596699608909, 0.03186077359687127, 0.9159972409100491, 0.007965193399217817, 0.02497466211700417, 0.012487331058502084, 0.9615244915046605, 0.9305894591858589, 0.008947975569094796, 0.017895951138189592, 0.04473987784547399, 0.10624320955113505, 0.1847707992193653, 0.3526042751769554, 0.21864544574291558, 0.11317211452186124, 0.02386622823250135, 0.9492708756888196, 0.03112363526848589, 0.856362138249274, 0.010371167764264564, 0.03407669408258357, 0.037039884872373446, 0.062227006585587386, 0.08614552477479565, 0.20997971663856438, 0.1959810688626601, 0.3946541853745325, 0.05599459110361717, 0.05653300063345964, 0.020709178876411646, 0.006903059625470548, 0.003451529812735274, 0.02416070868914692, 0.1208035434457346, 0.8231898603373629, 0.0025884232465013166, 0.012942116232506582, 0.7920575134294028, 0.031061078958015798, 0.06988742765553554, 0.09318323687404739, 0.37625945376303915, 0.0101942216536784, 0.06209207734513207, 0.025948927845726836, 0.037069896922466906, 0.4883958919535015, 0.06401439860866043, 0.8161835822604204, 0.004000899913041277, 0.0840188981738668, 0.032007199304330214, 0.027080189931995395, 0.7636613560822701, 0.008124056979598619, 0.0758245318095871, 0.005416037986399079, 0.1164448167075802, 0.19900031547138572, 0.12068406228587263, 0.272181076644734, 0.2811681876660224, 0.09436466572352807, 0.03338069807907115, 0.04210553169060891, 0.38324626804105255, 0.022341710692976156, 0.4958141180710478, 0.01374874504183148, 0.04296482825572338, 0.2055280175882266, 0.030663454236953165, 0.13094123701185406, 0.5784619204700895, 0.02154729216650763, 0.033978422262569724, 0.983729588921899, 0.009644407734528421, 0.9924406281124186, 0.6210771657324398, 0.04723288320553174, 0.08600614553843093, 0.08318627191422008, 0.06838193538711311, 0.09446576641106348, 0.10372266690556922, 0.17360673326038537, 0.10004455815005257, 0.20229598155341513, 0.4104769371156569, 0.011769948017653244, 0.14217485749647846, 0.07205241646880356, 0.13702825632013535, 0.14088820720239267, 0.3203759232273587, 0.1872076177894807, 0.03142354236519167, 0.9615603963748651, 0.020410135267344125, 0.11461075957816318, 0.007850052025901588, 0.8321055147455683, 0.01256008324144254, 0.01256008324144254, 0.09869298931519477, 0.8806451354278917, 0.0075917684088611355, 0.0075917684088611355, 0.9745259601321601, 0.016802171726416553, 0.111509112692799, 0.11830844883260383, 0.014958539507570598, 0.6608954727890283, 0.06663349417008721, 0.028557211787180233, 0.9942332157335856, 0.9872082928258655, 0.09616319794968824, 0.20704994773856317, 0.055673430391924766, 0.12100919167831581, 0.5093428714368654, 0.010582552884415451, 0.07464119395737069, 0.028808881878283427, 0.00785696778498639, 0.1191640114056269, 0.6940321543404644, 0.07464119395737069, 0.012742966557142068, 0.014335837376784828, 0.0015928708196427585, 0.02230019147499862, 0.9445723960481559, 0.004778612458928276, 0.009013597781368333, 0.06309518446957833, 0.009013597781368333, 0.8607985881206758, 0.0135203966720525, 0.040561190016157496, 0.02358560467728066, 0.06486041286252182, 0.025551071733720718, 0.7567048167294212, 0.12382442455572347, 0.00393093411288011, 0.12293604492914036, 0.25560959836751956, 0.15823451327513116, 0.23552598706721445, 0.1387594962566535, 0.08946335942863184, 0.9612711469784019, 0.02912942869631521, 0.9627373272472763, 0.016743257865170023, 0.008371628932585012, 0.006461411891633541, 0.9304433123952298, 0.01938423567490062, 0.016153529729083852, 0.025845647566534163, 0.06204254142002345, 0.060451707024638236, 0.027044184721548684, 0.09385922932772779, 0.719057146714118, 0.0381800254892452, 0.9736894841908517, 0.017703445167106393, 0.008851722583553196, 0.9713705979186328, 0.024083568543437177, 0.010024908651281222, 0.003341636217093741, 0.09356581407862474, 0.8938876880725757, 0.0030040443956897067, 0.0030040443956897067, 0.9402658958508782, 0.033044488352586776, 0.006008088791379413, 0.015020221978448533, 0.9741182212128102, 0.011879490502595246, 0.011879490502595246, 0.007739833866823158, 0.015479667733646316, 0.015479667733646316, 0.9674792333528948, 0.005178370425141145, 0.01035674085028229, 0.9838903807768177, 0.01605550583925128, 0.051377618685604094, 0.009633303503550768, 0.9215860351730234, 0.04538881461074586, 0.054672890326580244, 0.05157819842130212, 0.316690138306795, 0.03713630286333752, 0.4951507048445003, 0.3257244700430945, 0.20364191276710003, 0.16773527827416046, 0.13541930723051487, 0.14157473028644738, 0.0261605479877131, 0.07304285089004685, 0.9221659924868414, 0.10728609606276104, 0.025033422414644242, 0.06675579310571798, 0.20265151478521531, 0.0441065061591351, 0.555503564058296, 0.021113294363943862, 0.021113294363943862, 0.004691843191987525, 0.10322055022372555, 0.839839931365767, 0.00938368638397505, 0.9786659503638481, 0.968469664856742, 0.026352916050523593, 0.9854487965285533, 0.021785794919562795, 0.021785794919562795, 0.958574976460763, 0.47984490662215135, 0.09752523507563725, 0.10893776258448841, 0.19868172890409078, 0.06743766255230235, 0.047725115037013974, 0.9672178933741887, 0.19647157429702258, 0.06684683740875029, 0.04766470145667411, 0.17961454573307684, 0.21100349547283784, 0.2981950225277295, 0.22244385486981819, 0.13524586376084946, 0.060059840814850905, 0.3487919644358749, 0.09476108217454254, 0.13791519001928726, 0.9583527900874061, 0.027618961126561946, 0.966663639429668, 0.009423760909497245, 0.15195814466564309, 0.6785107854838016, 0.07421211716229081, 0.05948749074120136, 0.025915342501117426, 0.021871979497189338, 0.06014794361727068, 0.018226649580991117, 0.0309853042876849, 0.8621205251808798, 0.0054679948742973345, 0.06529672000878976, 0.15751992249543095, 0.06462355794684348, 0.23627988374314643, 0.4227457749022677, 0.05317980289375661, 0.9828756828703253, 0.8783906172792889, 0.040560605704094144, 0.006337594641264711, 0.06464346534090004, 0.007605113569517653, 0.0038025567847588264, 0.1311239709858224, 0.24039394680734105, 0.3108123756700975, 0.16329790831104735, 0.14508624567412756, 0.009105831318459889, 0.028069798478068623, 0.01901502477546584, 0.6709587313628661, 0.02354241162676723, 0.05251768747509613, 0.20554336304908313, 0.006853262283744793, 0.027984154325291236, 0.026270838754355038, 0.015419840138425784, 0.8897818865061989, 0.0336952062284119, 0.15954811762214452, 0.21031342777464507, 0.0031080802134183998, 0.5770668929580163, 0.0010360267378061333, 0.049729283414694396, 0.9502581602094, 0.005692062190938169, 0.006640739222761198, 0.023716925795575706, 0.007273190577309884, 0.006640739222761198, 0.008944853187382008, 0.6476073707664575, 0.07334779613653247, 0.12165000334839532, 0.09123750251129649, 0.057247060399244855, 0.27987574597868875, 0.08611561414728884, 0.11271014204571628, 0.31871219941766216, 0.1367718577633411, 0.06585311670086794, 0.22130187235068258, 0.3267169598111024, 0.09215093738261862, 0.19616979851905933, 0.10471697429843024, 0.05933961876911047, 0.8834895340203435, 0.06667845539776178, 0.03333922769888089, 0.016669613849440445, 0.3227571109208145, 0.03696777481912413, 0.063271768440424, 0.12512169938780474, 0.11801251192258856, 0.3341318108651604, 0.0027862527754591096, 0.02925565414232065, 0.015324390265025103, 0.02368314859140243, 0.9097115311873992, 0.018110643040484212, 0.018935172471142868, 0.012623448314095245, 0.9593820718712387, 0.006311724157047623, 0.00959837519494484, 0.006398916796629894, 0.9822337282826887, 0.003199458398314947, 0.00690071833970871, 0.00690071833970871, 0.024152514188980484, 0.9591998492195107, 0.003450359169854355, 0.013338014953966089, 0.013338014953966089, 0.9670060841625414, 0.094962323028798, 0.07505086820017906, 0.13172193194317142, 0.4005265721295271, 0.12865863120030696, 0.16924736604326096, 0.9919771230964396, 0.006251956658170838, 0.0020839855527236125, 0.008171970096735148, 0.027239900322450498, 0.008171970096735148, 0.04085985048367574, 0.8526088800927005, 0.059927780709391094, 0.012682196954656617, 0.05072878781862647, 0.025364393909313235, 0.8877537868259633, 0.012682196954656617, 0.012009418306832364, 0.04803767322732946, 0.012009418306832364, 0.9007063730124273, 0.012009418306832364, 0.9769123205810415, 0.010735300226165291, 0.016967026020645294, 0.9756039961871044, 0.010716468832310352, 0.9859151325725525, 0.040874684242257056, 0.005233953470045111, 0.009720199301512349, 0.12686106267871244, 0.08947568074981879, 0.7280180040953222, 0.026010604057226487, 0.06340084738948956, 0.06340084738948956, 0.03251325507153311, 0.7770667962096413, 0.037390243332263075, 0.01951650711664316, 0.012197816947901974, 0.017076943727062765, 0.9489901585467736, 0.00487912677916079, 0.008510266133236093, 0.9786806053221506, 0.8674795990434329, 0.014686983927005143, 0.03742812033010988, 0.05685284100776185, 0.017055852302328554, 0.006632831450905549, 0.9922012323530994, 0.004258374387781543, 0.02088890398270058, 0.0501333695584814, 0.004177780796540116, 0.9232895560353657, 0.017363516908101825, 0.4807523743930693, 0.05968708937160003, 0.15193077294589097, 0.26804929226882196, 0.022789615941883647, 0.04182553331054078, 0.1882148998974335, 0.08274181589693937, 0.13275060572475986, 0.5410041808646036, 0.012729510137990672, 0.01678072973957709, 0.7809493455726262, 0.012908253645828533, 0.14199079010411386, 0.03614311020831989, 0.011617428281245679, 0.03722837636494032, 0.8301927929381693, 0.03722837636494032, 0.05956540218390452, 0.03722837636494032, 0.007900438498233481, 0.7386909995848304, 0.07505416573321806, 0.1382576737190859, 0.007900438498233481, 0.03357686361749229, 0.011437837713252104, 0.7091459382216305, 0.17385513324143198, 0.05947675610891094, 0.018300540341203368, 0.027450810511805052, 0.0128076410700283, 0.4199558098225069, 0.0997647830717994, 0.3565916908444722, 0.10515747404865342, 0.006066777348960774, 0.8716322678832585, 0.041017989076859225, 0.010254497269214806, 0.030763491807644417, 0.041017989076859225, 0.007006370130515079, 0.08547771559228397, 0.0266242064959573, 0.11350319611434428, 0.70624210915592, 0.060254783122429684, 0.9832763100904504, 0.007681846172581643, 0.8864172929414944, 0.07543976961204207, 0.028289913604515778, 0.018711575482265375, 0.9730019250777995, 0.005695817767655903, 0.01708745330296771, 0.022783271070623612, 0.01708745330296771, 0.939809931663224, 0.059424492577254275, 0.07581745604684166, 0.015368403252738175, 0.7089956700596545, 0.048154330191912946, 0.09118585929957984, 0.0023791654588733464, 0.05353122282465029, 0.016654158212113423, 0.9028932916424349, 0.005947913647183366, 0.017843740941550095, 0.022613864883352354, 0.0026604546921591005, 0.9684055079459125, 0.005320909384318201, 0.04500076182679092, 0.9180155412665348, 0.036000609461432735, 0.00748081535928241, 0.041144484476053254, 0.02244244607784723, 0.018702038398206024, 0.9089190661528128, 0.012264566140943579, 0.028617320995535017, 0.00817637742729572, 0.00817637742729572, 0.9443715928526556, 0.013634848739941143, 0.9680742605358211, 0.005249772148066729, 0.9922069359846118, 0.9918696426027017, 0.005420052691818043, 0.6239370365030268, 0.27050189532864144, 0.027127697239262033, 0.059680933926376474, 0.01472646421559939, 0.004650462383873491, 0.8765841417803256, 0.08864334018003292, 0.029547780060010975, 0.9761173916416304, 0.004738433940007915, 0.004738433940007915, 0.00947686788001583, 0.004738433940007915, 0.6255913009741919, 0.04222986804064404, 0.049104497721679116, 0.18757918129681422, 0.023570158906405975, 0.07169256667365151, 0.7838435007170195, 0.11197764295957421, 0.01930649016544383, 0.02574198688725844, 0.021880688854169675, 0.037325880986524736, 0.9879184806516464, 0.005794243288279451, 0.005794243288279451, 0.9238100419704827, 0.14061309264061178, 0.087337324621498, 0.0698698596971984, 0.07773021891313323, 0.07248997943584334, 0.5519718916078674, 0.02275105506475562, 0.8872911475254692, 0.01137552753237781, 0.03412658259713343, 0.04550211012951124, 0.9920071113803006, 0.026028274901782514, 0.9717222629998805, 0.01617149333599916, 0.9702896001599497, 0.9036250170395719, 0.016136161018563782, 0.06454464407425513, 0.7829834735516029, 0.040918627855097894, 0.01769454177517747, 0.09344929875015599, 0.021012268358023244, 0.04368340000746937, 0.9788334492531844, 0.014394609547840947, 0.051132877638474974, 0.006391609704809372, 0.894825358673312, 0.03195804852404686, 0.019174829114428114, 0.1662472945836792, 0.026513577153431597, 0.03941207414699291, 0.44284839677893856, 0.03869549098068395, 0.2859166833572759, 0.012162569863679387, 0.1723030730687913, 0.05878575434111703, 0.7094832420479642, 0.0020270949772798978, 0.04256899452287785, 0.989963203604692, 0.027899680756667617, 0.5085350901556234, 0.012681673071212552, 0.20290676913940084, 0.20797943836788588, 0.039313186520758915, 0.0013963675039025418, 0.03490918759756354, 0.0167564100468305, 0.7037692219668811, 0.04608012762878388, 0.1968878180502584, 0.012544073152858333, 0.0025088146305716663, 0.97843770592295, 0.005017629261143333, 0.049030294828672334, 0.04418114479067177, 0.022629366844002616, 0.657868021822076, 0.046336322585338686, 0.17995734585468745, 0.006788599910001205, 0.006788599910001205, 0.9843469869501746, 0.9519729904032947, 0.011366841676457252, 0.036942235448486065, 0.9810682056457157, 0.011964246410313607, 0.005982123205156804, 0.06816111914046863, 0.0073029770507644955, 0.00973730273435266, 0.06572679345688046, 0.04625218798817514, 0.8033274755840945, 0.013448032414342153, 0.05379212965736861, 0.02241338735723692, 0.024654726092960613, 0.880846123139411, 0.004482677471447384, 0.9796689145398702, 0.8770951352032447, 0.016569807340111674, 0.00662792293604467, 0.06075596024707614, 0.008837230581392894, 0.030930307034875128, 0.0785381479184261, 0.12582131860400916, 0.5297317936130577, 0.14665797009257117, 0.09937479940698812, 0.020035241815925024, 0.01587206567357813, 0.644405866347272, 0.05502316100173751, 0.12486024996548127, 0.1491974173316344, 0.010581377115718752, 0.014411574029943076, 0.022418004046578118, 0.7898343211410469, 0.054443724113118284, 0.08566880117799495, 0.03322668456903542, 0.13612068737515723, 0.09899686354556889, 0.6629254255283631, 0.03182042042536143, 0.040659426099072936, 0.030052619290619125, 0.007642109677442654, 0.9858321483901024, 0.01781282322392582, 0.9500172386093771, 0.005937607741308607, 0.01781282322392582, 0.005937607741308607, 0.0072436281571501065, 0.9634025449009641, 0.02173088447145032, 0.0072436281571501065, 0.11810567177033054, 0.1913829133796597, 0.0689668156323098, 0.1793137206440055, 0.432766768092744, 0.010345022344846471, 0.09789750923955298, 0.6047339811253399, 0.055764403997213725, 0.12392089777158606, 0.06196044888579303, 0.05452519501949787, 0.002121115464129414, 0.02121115464129414, 0.07211792578040006, 0.02757450103368238, 0.8760206866854479, 0.992213313123853, 0.003647843062955342, 0.12171690319599726, 0.12380646376588562, 0.25962790080862935, 0.17656786815556685, 0.2220158105506388, 0.09664217635733688, 0.1134921276033028, 0.2441151423920098, 0.0792303532324944, 0.3797346659431263, 0.14418496714381865, 0.038544496167159444, 0.978945917674845, 0.015060706425766845, 0.0321007194763299, 0.9549964044208145, 0.008025179869082475, 0.008025179869082475, 0.01993824426878403, 0.9570357249016335, 0.018215027441256262, 0.009107513720628131, 0.97450396810721, 0.9428316598710437, 0.005119100208260333, 0.020476400833041333, 0.005119100208260333, 0.9700694894653331, 0.03433023119222504, 0.07317759806763759, 0.024392532689212525, 0.6929286138009633, 0.00993769850301251, 0.16532716600466268, 0.011850036028387984, 0.9835529903562027, 0.004556131757546298, 0.009112263515092596, 0.05011744933300928, 0.9203386150243522, 0.009112263515092596, 0.035713746105075786, 0.9523665628020209, 0.005269753269927964, 0.9432858353171055, 0.005269753269927964, 0.015809259809783892, 0.031618519619567784, 0.07868699270485137, 0.06910332051643998, 0.10844681686886566, 0.09634112568350392, 0.3893997331291362, 0.25724593768893717, 0.9737149236899635, 0.01019596778732946, 0.02039193557465892, 0.8695051495150465, 0.10647001830796488, 0.9619416573467624, 0.007907649617401917, 0.02372294885220575, 0.9647332533230338, 0.09334545314167571, 0.05162286423744187, 0.3026655601866455, 0.30832286037705003, 0.16406170552173305, 0.0799093651894648, 0.14152650540494208, 0.024225257681927022, 0.15427664102700892, 0.5877812521772819, 0.08542590866784791, 0.007650081373240112, 0.0657881071673187, 0.9100688158145753, 0.01096468452788645, 0.003186925742879571, 0.9560777228638713, 0.006373851485759142, 0.019121554457277423, 0.012747702971518284, 0.0172349762843734, 0.9823936482092837, 0.0037033927065358635, 0.896221034981679, 0.081474639543789, 0.018516963532679318, 0.0037033927065358635, 0.03445587513887225, 0.039656761952286936, 0.00650110851676835, 0.3127033196565576, 0.030555210028811244, 0.5766483254373526, 0.010640183813334756, 0.010640183813334756, 0.021280367626669513, 0.015960275720002134, 0.941656267480126, 0.018544965301309214, 0.04636241325327303, 0.033999103052400226, 0.8561592314104419, 0.018544965301309214, 0.02781744795196382, 0.01367965180497835, 0.018769754802179597, 0.8560916978417847, 0.022269200612755453, 0.06426255033966574, 0.02481425211135608, 0.12993013648444138, 0.17980231008452996, 0.5420317814956999, 0.09186979347384742, 0.039372768631648895, 0.017061533073714524, 0.0376716414663684, 0.01506865658654736, 0.02637014902645788, 0.01506865658654736, 0.9041193951928417, 0.9359733213101114, 0.007735316705042243, 0.038676583525211215, 0.023205950115126727, 0.9857619706882492, 0.01653103744801519, 0.019837244937618227, 0.09092070596408354, 0.001653103744801519, 0.04628690485444253, 0.8232456649111565, 0.9963464804423411, 0.1590922256985081, 0.006118931757634926, 0.002039643919211642, 0.016317151353693136, 0.026515370949751347, 0.7913818406541171, 0.025889283863947673, 0.012944641931973836, 0.9579035029660639, 0.9629469164348402, 0.029975001289800476, 0.007493750322450119, 0.9728788487663801, 0.016489472012989493, 0.008244736006494746, 0.981553966822199, 0.012193216979157751, 0.892253371433626, 0.003992185107085575, 0.029941388303141813, 0.06587105426691199, 0.0019960925535427877, 0.005988277660628363, 0.9644614386938235, 0.024729780479328806, 0.006182445119832201, 0.9672316696748571, 0.9656448993902814, 0.00770051753899746, 0.0046203105233984755, 0.010780724554596444, 0.009240621046796951, 0.0065697877723815395, 0.7818047449134032, 0.0065697877723815395, 0.09526192269953232, 0.08047990021167387, 0.02956404497571693, 0.00905871001694906, 0.00981360251836148, 0.8054702990070538, 0.015852742529660853, 0.13135129524576136, 0.027176130050847177, 0.01641312321608096, 0.01641312321608096, 0.8337866593769129, 0.006565249286432384, 0.12145711179899911, 0.006565249286432384, 0.6490501994538593, 0.021397259322654703, 0.20299963972774976, 0.05651071051880601, 0.0384053372457905, 0.032370212821451985, 0.9111925494099963, 0.006169211573527396, 0.017273792405876707, 0.04009987522792807, 0.016039950091171228, 0.009253817360291093, 0.9159464118637415, 0.001785470588428346, 0.017854705884283457, 0.03838761765120944, 0.017854705884283457, 0.008034617647927556, 0.860850459097958, 0.0332874506203292, 0.03791070765093048, 0.04623257030601278, 0.015719073904044346, 0.004623257030601278, 0.9805113687665126, 0.10752764103292405, 0.1437474780124353, 0.3254125978627964, 0.20317064805694596, 0.14884089258767907, 0.07130780405341279, 0.007478971855932034, 0.014957943711864067, 0.9722663412711644, 0.83067498622398, 0.02619939659704575, 0.020034832691858514, 0.0878450356489181, 0.006164563905187236, 0.02774053757334256, 0.6326793191182836, 0.1292091567213396, 0.07277297332581197, 0.10915945998871794, 0.03267357986056864, 0.02302002217449154, 0.9721456359444651, 0.010566800390700709, 0.01338573096585471, 0.05949213762602094, 0.014873034406505234, 0.761499361613068, 0.016360337847155758, 0.1338573096585471, 0.03659990902733344, 0.03354991660838899, 0.0416832297255742, 0.8509478848855025, 0.011183305536129663, 0.02643326763085193, 0.05301131912846738, 0.20113118139918504, 0.02806481600918861, 0.6376949859865635, 0.04521553690369276, 0.035860598233963224, 0.9607194741149517, 0.028821584223448552, 0.7155372654846888, 0.023936730506058886, 0.02479161373841813, 0.06582600889166193, 0.029920913132573605, 0.13934596687455708, 0.001498385227188987, 0.06143379431474847, 0.05544025340599252, 0.7671732363207614, 0.013485467044700885, 0.10039181022166213, 0.8761902307729571, 0.014208490228750655, 0.004736163409583552, 0.061570124324586174, 0.04736163409583552, 0.022963529427288704, 0.018370823541830963, 0.9460974124042946, 0.009185411770915482, 0.2269602695617344, 0.10483153328486577, 0.1126938982812307, 0.1687787685886339, 0.11479052894692802, 0.272561986540651, 0.005760991176269575, 0.9563245352607496, 0.0230439647050783, 0.005760991176269575, 0.008442000570147958, 0.004221000285073979, 0.016884001140295916, 0.012663000855221939, 0.9581670647117934, 0.1358950076530149, 0.4523220692684292, 0.026782227785630677, 0.1795401195999686, 0.10216923933036888, 0.10316117369279965, 0.027662656383223114, 0.05598394744223725, 0.7073736417995624, 0.021076309625312848, 0.17322091973303996, 0.014489962867402582, 0.04005691509734709, 0.18693227045428643, 0.032427026507376215, 0.6962273338348423, 0.0019074721474927185, 0.04196438724483981, 0.022845732143385648, 0.14899390528294987, 0.009932927018863325, 0.5035993998563706, 0.014899390528294986, 0.29898110326778604, 0.8909763256160215, 0.07464936782188288, 0.004816088246573089, 0.007224132369859634, 0.007224132369859634, 0.014448264739719267, 0.07108050189641332, 0.008046849271292074, 0.024140547813876225, 0.034869680175598994, 0.052304520263398484, 0.8087083517648536, 0.9900100840358131, 0.05595798640108411, 0.06381173887842925, 0.3975962191655977, 0.0716654913557744, 0.16591052108391605, 0.24542976491703558, 0.09678173891336303, 0.07767196880945058, 0.05239775673653412, 0.28849588414938787, 0.07582263621874938, 0.4093189467418666, 0.9511871539071565, 0.02797609276197519, 0.022360561064705707, 0.04024900991647027, 0.013416336638823424, 0.9257272280788162, 0.005389897214094898, 0.016169691642284694, 0.005389897214094898, 0.016169691642284694, 0.948621909680702, 0.010779794428189797, 0.02468203208927926, 0.01234101604463963, 0.9502582354372515, 0.02496308484737918, 0.09272002943312267, 0.03566154978197025, 0.8166494900071188, 0.023180007358280668, 0.008915387445492563, 0.011097912945120122, 0.08878330356096098, 0.03391028955453371, 0.7651394424941151, 0.04500820249965383, 0.0567226661639473, 0.0058968268603000395, 0.011793653720600079, 0.9434922976480064, 0.035380961161800235, 0.9809542089519006, 0.21931496019943114, 0.05224677722202515, 0.13243950505118005, 0.05285429788739754, 0.0959882651288369, 0.4477427303794481, 0.062294217311548716, 0.16240992370510915, 0.22915372796748276, 0.3737653038692923, 0.11012727703291647, 0.062294217311548716, 0.17741793971077616, 0.17008110761747336, 0.019342557336889128, 0.39085305515231133, 0.17274904656049256, 0.06936641251849894, 0.9886602247215668, 0.954990916408232, 0.013594176746024655, 0.010195632559518492, 0.023789809305543145, 0.04051202626956672, 0.22788014776631282, 0.32685839376582243, 0.18368521001769458, 0.14041100013883923, 0.080563688604252, 0.006506267469987793, 0.019518802409963378, 0.878346108448352, 0.0910877445798291], \"Term\": [\"academic\", \"academic\", \"academic\", \"academic\", \"academic\", \"accomplice\", \"accomplice\", \"accused\", \"accused\", \"accused\", \"accused\", \"accused\", \"accused\", \"active\", \"active\", \"active\", \"active\", \"active\", \"active\", \"actor\", \"actor\", \"actor\", \"actor\", \"actor\", \"actress\", \"actress\", \"actress\", \"actress\", \"adjourned\", \"adjourned\", \"adjourned\", \"admission\", \"admission\", \"admission\", \"admission\", \"admission\", \"admission\", \"advocate\", \"advocate\", \"advocate\", \"advocate\", \"advocate\", \"advocate\", \"agriculture\", \"agriculture\", \"agriculture\", \"agriculture\", \"agriculture\", \"agriculture\", \"aicc\", \"aicc\", \"airline\", \"airline\", \"airline\", \"airline\", \"airline\", \"airline\", \"airport\", \"airport\", \"airport\", \"airport\", \"airport\", \"airport\", \"allegedly\", \"allegedly\", \"allegedly\", \"allegedly\", \"allegedly\", \"allegedly\", \"allowed\", \"allowed\", \"allowed\", \"allowed\", \"allowed\", \"allowed\", \"annum\", \"annum\", \"annum\", \"annum\", \"antibody\", \"antibody\", \"antigen\", \"antigen\", \"area\", \"area\", \"area\", \"area\", \"area\", \"area\", \"arrested\", \"arrested\", \"arrested\", \"arrested\", \"arrested\", \"arrested\", \"art\", \"art\", \"art\", \"art\", \"art\", \"art\", \"artist\", \"artist\", \"artist\", \"artist\", \"artist\", \"artiste\", \"artiste\", \"artiste\", \"assailant\", \"assailant\", \"assaulted\", \"assaulted\", \"assaulted\", \"assembly\", \"assembly\", \"assembly\", \"assembly\", \"assembly\", \"assembly\", \"assembly_poll\", \"asymptomatic\", \"asymptomatic\", \"asymptomatic\", \"asymptomatic\", \"athlete\", \"athlete\", \"autopsy\", \"autopsy\", \"autopsy\", \"autopsy\", \"autorickshaws\", \"autorickshaws\", \"autorickshaws\", \"autorickshaws\", \"bank\", \"bank\", \"bank\", \"bank\", \"bank\", \"bank\", \"batsman\", \"bed\", \"bed\", \"bed\", \"bed\", \"bed\", \"bed\", \"beijing\", \"beijing\", \"beijing\", \"beijing\", \"bench\", \"bench\", \"bench\", \"bench\", \"bench\", \"bench\", \"bill\", \"bill\", \"bill\", \"bill\", \"bill\", \"bill\", \"billion\", \"billion\", \"billion\", \"billion\", \"bjp\", \"bjp\", \"bjp\", \"bjp\", \"bjp\", \"bjp\", \"booked\", \"booked\", \"booked\", \"booked\", \"booked\", \"booked\", \"bowler\", \"bowling\", \"breeding\", \"breeding\", \"breeding\", \"breeding\", \"bse\", \"bse\", \"bsp\", \"bsp\", \"bus\", \"bus\", \"bus\", \"bus\", \"bus\", \"bus\", \"business\", \"business\", \"business\", \"business\", \"business\", \"business\", \"busted\", \"busted\", \"busted\", \"caa\", \"caa\", \"caa\", \"caa\", \"candidate\", \"candidate\", \"candidate\", \"candidate\", \"candidate\", \"candidate\", \"car\", \"car\", \"car\", \"car\", \"car\", \"car\", \"cartridge\", \"cartridge\", \"case\", \"case\", \"case\", \"case\", \"case\", \"case\", \"caseload\", \"caseload\", \"cbse\", \"cbse\", \"cctv_footage\", \"cctv_footage\", \"cctv_footage\", \"cctv_footage\", \"celsius\", \"celsius\", \"celsius\", \"celsius\", \"championship\", \"championship\", \"chief\", \"chief\", \"chief\", \"chief\", \"chief\", \"chief\", \"child\", \"child\", \"child\", \"child\", \"child\", \"child\", \"china\", \"china\", \"china\", \"china\", \"china\", \"china\", \"chinese\", \"chinese\", \"chinese\", \"chinese\", \"chinese\", \"chinese\", \"citizenship_amendment\", \"city\", \"city\", \"city\", \"city\", \"city\", \"city\", \"civic\", \"civic\", \"civic\", \"civic\", \"civic\", \"civic\", \"civil_surgeon\", \"civil_surgeon\", \"civil_surgeon\", \"class\", \"class\", \"class\", \"class\", \"class\", \"class\", \"class_xii\", \"class_xii\", \"class_xii\", \"class_xii\", \"classroom\", \"classroom\", \"classroom\", \"classroom\", \"classroom\", \"classroom\", \"cm\", \"cm\", \"cm\", \"cm\", \"cm\", \"cm\", \"college\", \"college\", \"college\", \"college\", \"college\", \"college\", \"comedy\", \"committee\", \"committee\", \"committee\", \"committee\", \"committee\", \"committee\", \"commuter\", \"commuter\", \"commuter\", \"commuter\", \"commuter\", \"comorbid\", \"comorbid_condition\", \"company\", \"company\", \"company\", \"company\", \"company\", \"company\", \"complaint\", \"complaint\", \"complaint\", \"complaint\", \"complaint\", \"complaint\", \"concert\", \"concert\", \"concert\", \"congress\", \"congress\", \"congress\", \"congress\", \"congress\", \"congress\", \"constable\", \"constable\", \"constable\", \"constable\", \"constable\", \"constitutional\", \"constitutional\", \"constitutional\", \"consumer\", \"consumer\", \"consumer\", \"consumer\", \"consumer\", \"consumer\", \"contesting\", \"contesting\", \"cop\", \"cop\", \"cop\", \"cop\", \"cop\", \"cop\", \"corporation\", \"corporation\", \"corporation\", \"corporation\", \"corporation\", \"corporation\", \"counsel\", \"counsel\", \"counsel\", \"counsel\", \"counsel\", \"counsel\", \"countrymade\", \"countrymade\", \"course\", \"course\", \"course\", \"course\", \"course\", \"course\", \"court\", \"court\", \"court\", \"court\", \"court\", \"court\", \"covid\", \"covid\", \"covid\", \"covid\", \"covid\", \"covid\", \"covid19\", \"covid19\", \"covid19\", \"covid19\", \"covid19\", \"covid19\", \"crime\", \"crime\", \"crime\", \"crime\", \"crime\", \"crime\", \"crime_branch\", \"crime_branch\", \"crime_branch\", \"criminal_intimidation\", \"criminal_intimidation\", \"crore\", \"crore\", \"crore\", \"crore\", \"crore\", \"crore\", \"cured\", \"cured\", \"cured\", \"cured\", \"custody\", \"custody\", \"custody\", \"custody\", \"custody\", \"custody\", \"dam\", \"dam\", \"dam\", \"dam\", \"dam\", \"day\", \"day\", \"day\", \"day\", \"day\", \"day\", \"death\", \"death\", \"death\", \"death\", \"death\", \"death\", \"deceased\", \"deceased\", \"deceased\", \"deceased\", \"deceased\", \"deceased\", \"deceased_identified\", \"deceased_identified\", \"degree_celsius\", \"degree_celsius\", \"degree_celsius\", \"demand\", \"demand\", \"demand\", \"demand\", \"demand\", \"demand\", \"department\", \"department\", \"department\", \"department\", \"department\", \"department\", \"development\", \"development\", \"development\", \"development\", \"development\", \"development\", \"devotee\", \"devotee\", \"devotee\", \"devotee\", \"devotee\", \"discharged\", \"discharged\", \"discharged\", \"discharged\", \"discharged\", \"discharged\", \"distancing\", \"distancing\", \"distancing\", \"distancing\", \"distancing\", \"distancing\", \"district\", \"district\", \"district\", \"district\", \"district\", \"district\", \"division_bench\", \"division_bench\", \"division_bench\", \"doctor\", \"doctor\", \"doctor\", \"doctor\", \"doctor\", \"doctor\", \"dr\", \"dr\", \"dr\", \"dr\", \"dr\", \"dr\", \"drainage\", \"drainage\", \"drainage\", \"drainage\", \"drainage\", \"education\", \"education\", \"education\", \"education\", \"education\", \"education\", \"election\", \"election\", \"election\", \"election\", \"election\", \"election\", \"electoral\", \"electoral\", \"electoral\", \"electoral\", \"enterprise\", \"enterprise\", \"enterprise\", \"enterprise\", \"enterprise\", \"enterprise\", \"epa\", \"epa\", \"epa\", \"epa\", \"epa\", \"equity\", \"equity\", \"equity\", \"equity\", \"exam\", \"exam\", \"exam\", \"exam\", \"exam\", \"exam\", \"examination\", \"examination\", \"examination\", \"examination\", \"examination\", \"examination\", \"export\", \"export\", \"export\", \"export\", \"export\", \"exporter\", \"exporter\", \"exporter\", \"exporter\", \"family\", \"family\", \"family\", \"family\", \"family\", \"family\", \"fan\", \"fan\", \"fan\", \"fan\", \"fan\", \"fan\", \"farmer\", \"farmer\", \"farmer\", \"farmer\", \"farmer\", \"farmer\", \"fatality\", \"fatality\", \"fatality\", \"fatality\", \"fatality\", \"fee\", \"fee\", \"fee\", \"fee\", \"fee\", \"fee\", \"filed\", \"filed\", \"filed\", \"filed\", \"filed\", \"filed\", \"film\", \"film\", \"film\", \"film\", \"film\", \"film\", \"filmmaker\", \"filmmaker\", \"filmmaker\", \"filmmaker\", \"financial\", \"financial\", \"financial\", \"financial\", \"financial\", \"financial\", \"fir\", \"fir\", \"fir\", \"fir\", \"fir\", \"fir\", \"fiscal\", \"fiscal\", \"fiscal\", \"fisherman\", \"fisherman\", \"fisherman\", \"fisherman\", \"fisherman\", \"fled\", \"fled\", \"fled\", \"fled\", \"fled\", \"flight\", \"flight\", \"flight\", \"flight\", \"flight\", \"flight\", \"flood\", \"flood\", \"flood\", \"flood\", \"flood\", \"flood\", \"flooding\", \"flooding\", \"flooding\", \"flooding\", \"flooding\", \"flooding\", \"food_packet\", \"food_packet\", \"food_packet\", \"food_packet\", \"food_packet\", \"forest\", \"forest\", \"forest\", \"forest\", \"forest\", \"forest\", \"former\", \"former\", \"former\", \"former\", \"former\", \"former\", \"found\", \"found\", \"found\", \"found\", \"found\", \"found\", \"fund\", \"fund\", \"fund\", \"fund\", \"fund\", \"fund\", \"gang\", \"gang\", \"gang\", \"gang\", \"gangster\", \"gangster\", \"gangster\", \"garbage\", \"garbage\", \"garbage\", \"garbage\", \"garbage\", \"garbage\", \"gdp\", \"gdp\", \"gdp\", \"gdp\", \"gehlot\", \"gehlot\", \"gehlot\", \"gehlot\", \"gehlot\", \"gehlot\", \"genre\", \"get\", \"get\", \"get\", \"get\", \"get\", \"get\", \"girl\", \"girl\", \"girl\", \"girl\", \"girl\", \"girl\", \"gst\", \"gst\", \"gst\", \"gst\", \"gst\", \"hc\", \"hc\", \"hc\", \"hc\", \"hc\", \"hdfc\", \"hdfc\", \"hdfc\", \"health\", \"health\", \"health\", \"health\", \"health\", \"health\", \"hearing\", \"hearing\", \"hearing\", \"hearing\", \"hearing\", \"hearing\", \"heavy\", \"heavy\", \"heavy\", \"heavy\", \"heavy\", \"heavy\", \"heavy_rain\", \"heavy_rain\", \"heavy_rain\", \"heavy_rain\", \"heavy_rain\", \"heavy_rainfall\", \"heavy_rainfall\", \"heavy_rainfall\", \"high\", \"high\", \"high\", \"high\", \"high\", \"high\", \"highest_singleday\", \"hospital\", \"hospital\", \"hospital\", \"hospital\", \"hospital\", \"hospital\", \"house\", \"house\", \"house\", \"house\", \"house\", \"house\", \"hypertension\", \"hypertension\", \"hypertension\", \"hypertension\", \"icmr\", \"icmr\", \"icmr\", \"icu\", \"icu\", \"icu\", \"icu\", \"icu\", \"icu\", \"icu_bed\", \"icu_bed\", \"identified\", \"identified\", \"identified\", \"identified\", \"identified\", \"identified\", \"imd\", \"imd\", \"import\", \"import\", \"import\", \"import\", \"import\", \"import\", \"incident\", \"incident\", \"incident\", \"incident\", \"incident\", \"incident\", \"india\", \"india\", \"india\", \"india\", \"india\", \"india\", \"industry\", \"industry\", \"industry\", \"industry\", \"industry\", \"industry\", \"infected\", \"infected\", \"infected\", \"infected\", \"infected\", \"infected\", \"infection\", \"infection\", \"infection\", \"infection\", \"infection\", \"infection\", \"injured\", \"injured\", \"injured\", \"injured\", \"injured\", \"injured\", \"injury\", \"injury\", \"injury\", \"injury\", \"injury\", \"injury\", \"inspector\", \"inspector\", \"inspector\", \"inspector\", \"inspector\", \"inspector\", \"instagram\", \"instagram\", \"instagram\", \"instagram\", \"institute\", \"institute\", \"institute\", \"institute\", \"institute\", \"institute\", \"interest_litigation\", \"interest_litigation\", \"investigation\", \"investigation\", \"investigation\", \"investigation\", \"investigation\", \"investigation\", \"investment\", \"investment\", \"investment\", \"investment\", \"investment\", \"investor\", \"investor\", \"investor\", \"investor\", \"investor\", \"ipc\", \"ipc\", \"ipc\", \"ipc\", \"ipc\", \"isolation\", \"isolation\", \"isolation\", \"isolation\", \"isolation\", \"isolation\", \"issue\", \"issue\", \"issue\", \"issue\", \"issue\", \"issue\", \"jdu\", \"jdu\", \"judge\", \"judge\", \"judge\", \"judge\", \"judge\", \"judge\", \"justice\", \"justice\", \"justice\", \"justice\", \"justice\", \"justice\", \"kamal_nath\", \"kamal_nath\", \"lake\", \"lake\", \"lake\", \"lake\", \"lake\", \"lake\", \"lakh\", \"lakh\", \"lakh\", \"lakh\", \"lakh\", \"lakh\", \"land\", \"land\", \"land\", \"land\", \"land\", \"land\", \"leader\", \"leader\", \"leader\", \"leader\", \"leader\", \"leader\", \"learning\", \"learning\", \"learning\", \"learning\", \"learning\", \"learning\", \"legislator\", \"legislator\", \"legislator\", \"legislator\", \"legislator\", \"legislator\", \"legislature\", \"legislature\", \"legislature\", \"lender\", \"lender\", \"lender\", \"lender\", \"like\", \"like\", \"like\", \"like\", \"like\", \"like\", \"liquidity\", \"liquidity\", \"loan\", \"loan\", \"loan\", \"loan\", \"loan\", \"lockdown\", \"lockdown\", \"lockdown\", \"lockdown\", \"lockdown\", \"lockdown\", \"lodged\", \"lodged\", \"lodged\", \"lodged\", \"lodged\", \"lodged\", \"love\", \"love\", \"love\", \"love\", \"love\", \"love\", \"man\", \"man\", \"man\", \"man\", \"man\", \"man\", \"manufacturer\", \"manufacturer\", \"manufacturer\", \"manufacturer\", \"manufacturer\", \"manufacturing\", \"manufacturing\", \"manufacturing\", \"manufacturing\", \"manufacturing\", \"manufacturing\", \"many\", \"many\", \"many\", \"many\", \"many\", \"many\", \"market\", \"market\", \"market\", \"market\", \"market\", \"market\", \"mask\", \"mask\", \"mask\", \"mask\", \"mask\", \"mask\", \"mathematics\", \"mathematics\", \"maximum_temperature\", \"medical\", \"medical\", \"medical\", \"medical\", \"medical\", \"medical\", \"meeting\", \"meeting\", \"meeting\", \"meeting\", \"meeting\", \"meeting\", \"member\", \"member\", \"member\", \"member\", \"member\", \"member\", \"meteorological\", \"meteorological\", \"metro\", \"metro\", \"metro\", \"metro\", \"metro\", \"metro\", \"metro_rail\", \"metro_rail\", \"metro_rail\", \"metro_rail\", \"micro_small\", \"micro_small\", \"migrant\", \"migrant\", \"migrant\", \"migrant\", \"migrant\", \"migrant\", \"mild_symptom\", \"minimum_temperature\", \"minister\", \"minister\", \"minister\", \"minister\", \"minister\", \"minister\", \"mla\", \"mla\", \"mla\", \"mla\", \"mla\", \"mla\", \"mlas\", \"mlas\", \"mlas\", \"mlas\", \"mlas\", \"mlas\", \"mm\", \"mm\", \"mm\", \"mm\", \"mm\", \"mm\", \"monsoon\", \"monsoon\", \"monsoon\", \"monsoon\", \"monsoon\", \"monsoon\", \"month\", \"month\", \"month\", \"month\", \"month\", \"month\", \"moratorium\", \"moratorium\", \"mortality_rate\", \"mortality_rate\", \"mortality_rate\", \"movie\", \"movie\", \"movie\", \"movie\", \"movie\", \"mp\", \"mp\", \"mp\", \"mp\", \"mp\", \"mp\", \"msme\", \"msme\", \"msme\", \"msmes\", \"msmes\", \"murder\", \"murder\", \"murder\", \"murder\", \"music\", \"music\", \"music\", \"music\", \"music\", \"music\", \"musician\", \"musician\", \"musician\", \"nab\", \"nab\", \"nab\", \"nab\", \"nabbed\", \"nabbed\", \"nabbed\", \"nda\", \"nda\", \"nda\", \"nda\", \"near\", \"near\", \"near\", \"near\", \"near\", \"near\", \"new\", \"new\", \"new\", \"new\", \"new\", \"new\", \"nhai\", \"nhai\", \"night\", \"night\", \"night\", \"night\", \"night\", \"night\", \"nitish\", \"nitish\", \"nitish\", \"nitish\", \"nitish\", \"nitish\", \"niv\", \"noncovid\", \"noncovid\", \"npr\", \"nrc\", \"nrc\", \"nrc\", \"number\", \"number\", \"number\", \"number\", \"number\", \"number\", \"odi\", \"officer\", \"officer\", \"officer\", \"officer\", \"officer\", \"officer\", \"official\", \"official\", \"official\", \"official\", \"official\", \"official\", \"olympic\", \"olympics\", \"olympics\", \"online\", \"online\", \"online\", \"online\", \"online\", \"online\", \"opposition\", \"opposition\", \"opposition\", \"opposition\", \"opposition\", \"opposition\", \"order\", \"order\", \"order\", \"order\", \"order\", \"order\", \"over\", \"oxygen\", \"oxygen\", \"oxygen\", \"oxygen\", \"oxygen\", \"oxygen\", \"pandemic\", \"pandemic\", \"pandemic\", \"pandemic\", \"pandemic\", \"pandemic\", \"parent\", \"parent\", \"parent\", \"parent\", \"parent\", \"parent\", \"party\", \"party\", \"party\", \"party\", \"party\", \"party\", \"passenger\", \"passenger\", \"passenger\", \"passenger\", \"passenger\", \"passenger\", \"patient\", \"patient\", \"patient\", \"patient\", \"patient\", \"patient\", \"payment\", \"payment\", \"payment\", \"payment\", \"payment\", \"payment\", \"people\", \"people\", \"people\", \"people\", \"people\", \"people\", \"per\", \"per\", \"per\", \"per\", \"per\", \"per\", \"per_annum\", \"per_annum\", \"per_annum\", \"per_annum\", \"person\", \"person\", \"person\", \"person\", \"person\", \"person\", \"petition\", \"petition\", \"petition\", \"petition\", \"petition\", \"petition\", \"petition_filed\", \"petition_filed\", \"petition_filed\", \"petition_filed\", \"petitioner\", \"petitioner\", \"petitioner\", \"petitioner\", \"pil\", \"pil\", \"pil\", \"pil\", \"pil\", \"pistol\", \"pistol\", \"pistol\", \"place\", \"place\", \"place\", \"place\", \"place\", \"place\", \"plasma\", \"plasma\", \"plasma\", \"plea\", \"plea\", \"plea\", \"plea\", \"plea\", \"plea\", \"ply\", \"ply\", \"ply\", \"ply\", \"ply\", \"plying\", \"plying\", \"plying\", \"plying\", \"plying\", \"pneumonia\", \"pneumonia\", \"pocso\", \"pocso\", \"pocso_act\", \"pocso_act\", \"police\", \"police\", \"police\", \"police\", \"police\", \"police\", \"political\", \"political\", \"political\", \"political\", \"political\", \"political\", \"poll\", \"poll\", \"poll\", \"poll\", \"poll\", \"polling\", \"polling\", \"positive\", \"positive\", \"positive\", \"positive\", \"positive\", \"positive\", \"positivity_rate\", \"positivity_rate\", \"postmortem\", \"postmortem\", \"postmortem\", \"postmortem\", \"power\", \"power\", \"power\", \"power\", \"power\", \"power\", \"president\", \"president\", \"president\", \"president\", \"president\", \"president\", \"price\", \"price\", \"price\", \"price\", \"price\", \"price\", \"procurement\", \"procurement\", \"procurement\", \"procurement\", \"procurement\", \"product\", \"product\", \"product\", \"product\", \"product\", \"product\", \"production\", \"production\", \"production\", \"production\", \"production\", \"production\", \"project\", \"project\", \"project\", \"project\", \"project\", \"project\", \"promoter\", \"promoter\", \"promoter\", \"promoter\", \"promoter\", \"protest\", \"protest\", \"protest\", \"protest\", \"protest\", \"protest\", \"question_paper\", \"question_paper\", \"quintal\", \"quintal\", \"quintal\", \"rahul_gandhi\", \"rahul_gandhi\", \"raided\", \"raided\", \"raided\", \"raided\", \"raided\", \"railway\", \"railway\", \"railway\", \"railway\", \"railway\", \"railway\", \"rain\", \"rain\", \"rain\", \"rain\", \"rain\", \"rain\", \"rainfall\", \"rainfall\", \"rainfall\", \"rainfall\", \"rainwater\", \"rainwater\", \"rainwater\", \"rajya\", \"rajya\", \"rajya\", \"rajya\", \"rajya\", \"rajya_sabha\", \"rajya_sabha\", \"rajya_sabha\", \"rajya_sabha\", \"rajya_sabha\", \"rammed\", \"rammed\", \"raped\", \"raped\", \"rapid_antigen\", \"rapid_antigen\", \"rate\", \"rate\", \"rate\", \"rate\", \"rate\", \"rate\", \"rating\", \"rating\", \"rating\", \"rbi\", \"rbi\", \"rbi\", \"rbi\", \"rbi\", \"recorded\", \"recorded\", \"recorded\", \"recorded\", \"recorded\", \"recorded\", \"recovery\", \"recovery\", \"recovery\", \"recovery\", \"recovery\", \"recovery\", \"recovery_rate\", \"recovery_rate\", \"recovery_rate\", \"register_citizen\", \"registered\", \"registered\", \"registered\", \"registered\", \"registered\", \"registered\", \"regulator\", \"regulator\", \"regulator\", \"regulator\", \"regulator\", \"related_sexual\", \"remanded\", \"remanded\", \"remanded_judicial\", \"remanded_judicial\", \"repayment\", \"repayment\", \"repayment\", \"reported\", \"reported\", \"reported\", \"reported\", \"reported\", \"reported\", \"research_icmr\", \"research_icmr\", \"reservoir\", \"reservoir\", \"reservoir\", \"reservoir\", \"reservoir\", \"resident\", \"resident\", \"resident\", \"resident\", \"resident\", \"resident\", \"restaurant\", \"restaurant\", \"restaurant\", \"restaurant\", \"restaurant\", \"restaurant\", \"revealed_protect\", \"revenue\", \"revenue\", \"revenue\", \"revenue\", \"revenue\", \"revenue\", \"river\", \"river\", \"river\", \"river\", \"river\", \"river\", \"rjd\", \"rjd\", \"rjd\", \"rjd\", \"road\", \"road\", \"road\", \"road\", \"road\", \"road\", \"robbery\", \"robbery\", \"robbery\", \"rtpcr\", \"rtpcr\", \"rtpcr\", \"rtpcr_test\", \"rtpcr_test\", \"rtpcr_test\", \"rushed\", \"rushed\", \"rushed\", \"rushed\", \"rushed\", \"rushed\", \"sabha\", \"sabha\", \"sabha\", \"sabha\", \"sabha\", \"sabha\", \"saffron_party\", \"sample\", \"sample\", \"sample\", \"sample\", \"sample\", \"sample\", \"say\", \"say\", \"say\", \"say\", \"say\", \"say\", \"scheme\", \"scheme\", \"scheme\", \"scheme\", \"scheme\", \"scheme\", \"school\", \"school\", \"school\", \"school\", \"school\", \"school\", \"science\", \"science\", \"science\", \"science\", \"science\", \"science\", \"scindia\", \"scindia\", \"scored\", \"scored\", \"scored\", \"scored\", \"scored\", \"script\", \"script\", \"script\", \"script\", \"secretary\", \"secretary\", \"secretary\", \"secretary\", \"secretary\", \"secretary\", \"sector\", \"sector\", \"sector\", \"sector\", \"sector\", \"sector\", \"seized\", \"seized\", \"seized\", \"seized\", \"seized\", \"semester\", \"semester\", \"september\", \"september\", \"september\", \"september\", \"september\", \"september\", \"service\", \"service\", \"service\", \"service\", \"service\", \"service\", \"severe_acute\", \"severe_acute\", \"sewage\", \"sewage\", \"sewage\", \"sewage\", \"sexual_offence\", \"sexual_offence\", \"sexually\", \"sexually\", \"sexually\", \"shaheen_bagh\", \"sho\", \"sho\", \"sho\", \"sho\", \"shop\", \"shop\", \"shop\", \"shop\", \"shop\", \"shop\", \"shot_dead\", \"shot_dead\", \"shower\", \"shower\", \"shower\", \"shower\", \"shower\", \"shramik_special\", \"shramik_special\", \"singer\", \"singer\", \"singer\", \"singer\", \"singer\", \"singh\", \"singh\", \"singh\", \"singh\", \"singh\", \"singh\", \"singleday\", \"singleday\", \"singleday\", \"sitharaman\", \"sitharaman\", \"skipper\", \"sleuth\", \"sleuth\", \"sleuth\", \"social\", \"social\", \"social\", \"social\", \"social\", \"social\", \"social_distancing\", \"social_distancing\", \"social_distancing\", \"social_distancing\", \"social_distancing\", \"social_distancing\", \"solid_waste\", \"solid_waste\", \"solid_waste\", \"song\", \"song\", \"song\", \"song\", \"song\", \"stabbed\", \"stabbed\", \"startup\", \"startup\", \"startup\", \"startup\", \"startup\", \"station\", \"station\", \"station\", \"station\", \"station\", \"station\", \"stolen\", \"stolen\", \"stolen\", \"stolen\", \"stolen\", \"stretch\", \"stretch\", \"stretch\", \"stretch\", \"stretch\", \"stretch\", \"student\", \"student\", \"student\", \"student\", \"student\", \"student\", \"study\", \"study\", \"study\", \"study\", \"study\", \"study\", \"subinspector\", \"subinspector\", \"subinspector\", \"subinspector\", \"subinspector\", \"subsidy\", \"subsidy\", \"subsidy\", \"subsidy\", \"succumbed_injury\", \"suicide\", \"suicide\", \"suicide\", \"suicide\", \"suicide\", \"suicide\", \"suicide_note\", \"suspect\", \"suspect\", \"suspect\", \"suspect\", \"suspect\", \"suspect\", \"sustained_injury\", \"sustained_injury\", \"sustained_injury\", \"swab\", \"swab\", \"swab\", \"swab_sample\", \"swab_sample\", \"swab_sample\", \"syllabus\", \"syllabus\", \"symptom\", \"symptom\", \"symptom\", \"symptom\", \"symptom\", \"symptom\", \"symptomatic\", \"symptomatic\", \"symptomatic\", \"t20\", \"tally\", \"tally\", \"tally\", \"tally\", \"tally\", \"tax\", \"tax\", \"tax\", \"tax\", \"tax\", \"tax\", \"teacher\", \"teacher\", \"teacher\", \"teacher\", \"teacher\", \"teacher\", \"teaching\", \"teaching\", \"teaching\", \"teaching\", \"teaching\", \"teaching\", \"test\", \"test\", \"test\", \"test\", \"test\", \"test\", \"tested\", \"tested\", \"tested\", \"tested\", \"tested\", \"tested\", \"tested_positive\", \"tested_positive\", \"tested_positive\", \"tested_positive\", \"tested_positive\", \"tested_positive\", \"testing\", \"testing\", \"testing\", \"testing\", \"testing\", \"testing\", \"throat_swab\", \"time\", \"time\", \"time\", \"time\", \"time\", \"time\", \"tipoff\", \"tipoff\", \"tipoff\", \"toll\", \"toll\", \"toll\", \"toll\", \"toll\", \"toll\", \"total\", \"total\", \"total\", \"total\", \"total\", \"total\", \"tournament\", \"tournament\", \"traffic\", \"traffic\", \"traffic\", \"traffic\", \"traffic\", \"traffic\", \"train\", \"train\", \"train\", \"train\", \"train\", \"train\", \"transport\", \"transport\", \"transport\", \"transport\", \"transport\", \"transport\", \"travel_history\", \"travel_history\", \"treatment\", \"treatment\", \"treatment\", \"treatment\", \"treatment\", \"treatment\", \"tree\", \"tree\", \"tree\", \"tree\", \"tree\", \"tree\", \"troop\", \"troop\", \"troop\", \"troop\", \"troop\", \"trs\", \"trs\", \"trs\", \"trs\", \"two\", \"two\", \"two\", \"two\", \"two\", \"two\", \"undergraduate\", \"undergraduate\", \"undergraduate\", \"undergraduate\", \"unidentified\", \"unidentified\", \"unidentified\", \"unidentified\", \"unidentified\", \"unit\", \"unit\", \"unit\", \"unit\", \"unit\", \"unit\", \"university\", \"university\", \"university\", \"university\", \"university\", \"university\", \"vegetable\", \"vegetable\", \"vegetable\", \"vegetable\", \"vegetable\", \"vegetable\", \"vehicle\", \"vehicle\", \"vehicle\", \"vehicle\", \"vehicle\", \"vehicle\", \"ventilator\", \"ventilator\", \"ventilator\", \"ventilator\", \"ventilator\", \"ventilator\", \"victim\", \"victim\", \"victim\", \"victim\", \"victim\", \"victim\", \"victim_identity\", \"video\", \"video\", \"video\", \"video\", \"video\", \"video\", \"village\", \"village\", \"village\", \"village\", \"village\", \"village\", \"virology\", \"virology\", \"vote\", \"vote\", \"vote\", \"vote\", \"voter\", \"voter\", \"voter\", \"voter\", \"voter\", \"voter\", \"voting\", \"voting\", \"voting\", \"waste\", \"waste\", \"waste\", \"waste\", \"waste\", \"waste\", \"water\", \"water\", \"water\", \"water\", \"water\", \"water\", \"waterlogging\", \"waterlogging\", \"waterlogging\", \"waterlogging\", \"wicket\", \"woman\", \"woman\", \"woman\", \"woman\", \"woman\", \"woman\", \"work\", \"work\", \"work\", \"work\", \"work\", \"work\", \"worker\", \"worker\", \"worker\", \"worker\", \"worker\", \"worker\", \"world_cup\", \"xii\", \"xii\", \"xii\", \"xii\", \"year\", \"year\", \"year\", \"year\", \"year\", \"year\", \"zoo\", \"zoo\", \"zoo\", \"zoo\"]}, \"R\": 30, \"lambda.step\": 0.01, \"plot.opts\": {\"xlab\": \"PC1\", \"ylab\": \"PC2\"}, \"topic.order\": [1, 2, 3, 4, 5, 6]};\n",
       "\n",
       "function LDAvis_load_lib(url, callback){\n",
       "  var s = document.createElement('script');\n",
       "  s.src = url;\n",
       "  s.async = true;\n",
       "  s.onreadystatechange = s.onload = callback;\n",
       "  s.onerror = function(){console.warn(\"failed to load library \" + url);};\n",
       "  document.getElementsByTagName(\"head\")[0].appendChild(s);\n",
       "}\n",
       "\n",
       "if(typeof(LDAvis) !== \"undefined\"){\n",
       "   // already loaded: just create the visualization\n",
       "   !function(LDAvis){\n",
       "       new LDAvis(\"#\" + \"ldavis_el215614488458999767149353793\", ldavis_el215614488458999767149353793_data);\n",
       "   }(LDAvis);\n",
       "}else if(typeof define === \"function\" && define.amd){\n",
       "   // require.js is available: use it to load d3/LDAvis\n",
       "   require.config({paths: {d3: \"https://cdnjs.cloudflare.com/ajax/libs/d3/3.5.5/d3.min\"}});\n",
       "   require([\"d3\"], function(d3){\n",
       "      window.d3 = d3;\n",
       "      LDAvis_load_lib(\"https://cdn.rawgit.com/bmabey/pyLDAvis/files/ldavis.v1.0.0.js\", function(){\n",
       "        new LDAvis(\"#\" + \"ldavis_el215614488458999767149353793\", ldavis_el215614488458999767149353793_data);\n",
       "      });\n",
       "    });\n",
       "}else{\n",
       "    // require.js not available: dynamically load d3 & LDAvis\n",
       "    LDAvis_load_lib(\"https://cdnjs.cloudflare.com/ajax/libs/d3/3.5.5/d3.min.js\", function(){\n",
       "         LDAvis_load_lib(\"https://cdn.rawgit.com/bmabey/pyLDAvis/files/ldavis.v1.0.0.js\", function(){\n",
       "                 new LDAvis(\"#\" + \"ldavis_el215614488458999767149353793\", ldavis_el215614488458999767149353793_data);\n",
       "            })\n",
       "         });\n",
       "}\n",
       "</script>"
      ],
      "text/plain": [
       "<IPython.core.display.HTML object>"
      ]
     },
     "execution_count": 11,
     "metadata": {},
     "output_type": "execute_result"
    }
   ],
   "source": [
    "pyLDAvis.display(lda_display)\n"
   ]
  },
  {
   "cell_type": "code",
   "execution_count": 16,
   "metadata": {},
   "outputs": [
    {
     "name": "stdout",
     "output_type": "stream",
     "text": [
      "\n",
      "Coherence Score:  0.6163591673326029\n"
     ]
    }
   ],
   "source": [
    "#print('\\nPerplexity: ', model.log_perplexity(corpus))  # a measure of how good the model is. lower the better.\n",
    "from gensim.models import CoherenceModel\n",
    "\n",
    "# Compute Coherence Score\n",
    "coherence_model_lda = CoherenceModel(model=model, texts=words, dictionary=dictionary, coherence='c_v')\n",
    "coherence_lda = coherence_model_lda.get_coherence()\n",
    "print('\\nCoherence Score: ', coherence_lda)"
   ]
  },
  {
   "cell_type": "code",
   "execution_count": 40,
   "metadata": {},
   "outputs": [],
   "source": [
    "import re\n",
    "import numpy as np\n",
    "import pandas as pd\n",
    "from pprint import pprint\n",
    "\n",
    "# Gensim\n",
    "import gensim\n",
    "import gensim.corpora as corpora\n",
    "from gensim.utils import simple_preprocess\n",
    "from gensim.models import CoherenceModel\n",
    "\n",
    "# spacy for lemmatization\n",
    "import spacy\n",
    "\n",
    "# Plotting tools\n",
    "import pyLDAvis\n",
    "import pyLDAvis.gensim  # don't skip this\n",
    "import matplotlib.pyplot as plt\n",
    "%matplotlib inline\n",
    "\n",
    "# Enable logging for gensim - optional\n",
    "import logging\n",
    "logging.basicConfig(format='%(asctime)s : %(levelname)s : %(message)s', level=logging.ERROR)\n",
    "\n",
    "import warnings\n",
    "warnings.filterwarnings(\"ignore\",category=DeprecationWarning)"
   ]
  },
  {
   "cell_type": "code",
   "execution_count": 40,
   "metadata": {},
   "outputs": [],
   "source": [
    "ldamallet = gensim.models.wrappers.LdaMallet(mallet_path, corpus=corpus_tfidf, num_topics=6, id2word=dictionary)"
   ]
  },
  {
   "cell_type": "code",
   "execution_count": 46,
   "metadata": {},
   "outputs": [],
   "source": [
    "def compute_coherence_values(dictionary, corpus, texts, limit, start=2, step=3):\n",
    "    \"\"\"\n",
    "    Compute c_v coherence for various number of topics\n",
    "\n",
    "    Parameters:\n",
    "    ----------\n",
    "    dictionary : Gensim dictionary\n",
    "    corpus : Gensim corpus\n",
    "    texts : List of input texts\n",
    "    limit : Max num of topics\n",
    "\n",
    "    Returns:\n",
    "    -------\n",
    "    model_list : List of LDA topic models\n",
    "    coherence_values : Coherence values corresponding to the LDA model with respective number of topics\n",
    "    \"\"\"\n",
    "    coherence_values = []\n",
    "    model_list = []\n",
    "    for num_topics in range(start, limit, step):\n",
    "        model = gensim.models.wrappers.LdaMallet(mallet_path, corpus=corpus, num_topics=num_topics, id2word=id2word)\n",
    "        model_list.append(model)\n",
    "        coherencemodel = CoherenceModel(model=model, texts=texts, dictionary=dictionary, coherence='c_v')\n",
    "        coherence_values.append(coherencemodel.get_coherence())\n",
    "\n",
    "    return model_list, coherence_values"
   ]
  },
  {
   "cell_type": "code",
   "execution_count": null,
   "metadata": {},
   "outputs": [],
   "source": [
    "model_list, coherence_values = compute_coherence_values(dictionary=dictionary, corpus=corpus_tfidf, texts=words, start=2, limit=20, step=6)\n"
   ]
  },
  {
   "cell_type": "code",
   "execution_count": 36,
   "metadata": {},
   "outputs": [],
   "source": [
    "from scipy.spatial import distance"
   ]
  },
  {
   "cell_type": "code",
   "execution_count": null,
   "metadata": {},
   "outputs": [],
   "source": [
    "distance.jensenshannon(doc1,doc2)"
   ]
  },
  {
   "cell_type": "code",
   "execution_count": null,
   "metadata": {},
   "outputs": [],
   "source": []
  },
  {
   "cell_type": "code",
   "execution_count": 23,
   "metadata": {},
   "outputs": [],
   "source": []
  },
  {
   "cell_type": "code",
   "execution_count": 42,
   "metadata": {},
   "outputs": [
    {
     "name": "stdout",
     "output_type": "stream",
     "text": [
      "C:\\Users\\ajain\\Anaconda3\\lib\\site-packages\\gensim\\test\\test_data\\modell\n"
     ]
    }
   ],
   "source": []
  },
  {
   "cell_type": "code",
   "execution_count": null,
   "metadata": {},
   "outputs": [],
   "source": [
    "from gensim.models import hdpmodel\n",
    "hdp_model = hdpmodel.HdpModel(corpus=corpus_tfidf, id2word=dictionary)\n",
    "hdp_model.print_topics(num_topics=-1)"
   ]
  },
  {
   "cell_type": "code",
   "execution_count": null,
   "metadata": {},
   "outputs": [],
   "source": [
    "shown_topics = hdp_model.show_topics(num_topics=hdp_model.m_T, formatted=False)\n",
    "topics_nos = [x[0] for x in shown_topics ]\n",
    "weights = [ sum([item[1] for item in shown_topics[topicN][1]]) for topicN in topics_nos ]\n",
    "ll= pd.DataFrame({'topic_id' : topics_nos, 'weight' : weights})"
   ]
  },
  {
   "cell_type": "code",
   "execution_count": null,
   "metadata": {},
   "outputs": [],
   "source": [
    "for i in range(0,150):\n",
    "    print(ll['weight'][i])\n",
    "    print('\\n')"
   ]
  },
  {
   "cell_type": "code",
   "execution_count": 45,
   "metadata": {},
   "outputs": [],
   "source": [
    "train_vecs = []\n",
    "for i in range(len(words)):\n",
    "    top_topics = model.get_document_topics(corpus[i], minimum_probability=0.0)\n",
    "    topic_vec = [top_topics[i][1] for i in range(6)]\n",
    "    train_vecs.append(topic_vec)"
   ]
  },
  {
   "cell_type": "code",
   "execution_count": 46,
   "metadata": {},
   "outputs": [
    {
     "name": "stdout",
     "output_type": "stream",
     "text": [
      "[6.304063e-05, 5.930225e-05, 0.19166397, 4.6081892e-05, 0.80810606, 6.153711e-05]\n"
     ]
    }
   ],
   "source": [
    "print(train_vecs[0])"
   ]
  },
  {
   "cell_type": "code",
   "execution_count": 24,
   "metadata": {},
   "outputs": [],
   "source": [
    "test_articles = []\n",
    "\n",
    "dataP = pd.read_csv(\"4_1_P.csv\")\n",
    "dataTH = pd.read_csv(\"4_1_TH.csv\")\n",
    "dataTOI = pd.read_csv(\"4_1_TOI.csv\")\n",
    "for j in range(len(dataP)):\n",
    "    test_articles.append(dataP['Article'][j])\n",
    "for j in range(len(dataTH)):\n",
    "    test_articles.append(dataTH['Content'][j])\n",
    "for j in range(len(dataTOI)):\n",
    "    test_articles.append(dataTOI['Content'][j])\n",
    "                     \n",
    " "
   ]
  },
  {
   "cell_type": "code",
   "execution_count": 25,
   "metadata": {},
   "outputs": [
    {
     "name": "stdout",
     "output_type": "stream",
     "text": [
      "1158\n"
     ]
    }
   ],
   "source": [
    "test_articles = standardize_data(test_articles)\n",
    "test = word_preprocessing(test_articles)"
   ]
  },
  {
   "cell_type": "code",
   "execution_count": 32,
   "metadata": {},
   "outputs": [],
   "source": [
    "testcorpus = [dictionary.doc2bow(doc) for doc in test]"
   ]
  },
  {
   "cell_type": "code",
   "execution_count": 10,
   "metadata": {},
   "outputs": [
    {
     "name": "stderr",
     "output_type": "stream",
     "text": [
      "C:\\Users\\ajain\\Anaconda3\\lib\\site-packages\\ipykernel\\ipkernel.py:287: DeprecationWarning: `should_run_async` will not call `transform_cell` automatically in the future. Please pass the result to `transformed_cell` argument and any exception that happen during thetransform in `preprocessing_exc_tuple` in IPython 7.17 and above.\n",
      "  and should_run_async(code)\n"
     ]
    }
   ],
   "source": [
    "corpus = [dictionary.doc2bow(doc) for doc in words]\n"
   ]
  },
  {
   "cell_type": "code",
   "execution_count": 11,
   "metadata": {},
   "outputs": [
    {
     "name": "stderr",
     "output_type": "stream",
     "text": [
      "C:\\Users\\ajain\\Anaconda3\\lib\\site-packages\\ipykernel\\ipkernel.py:287: DeprecationWarning: `should_run_async` will not call `transform_cell` automatically in the future. Please pass the result to `transformed_cell` argument and any exception that happen during thetransform in `preprocessing_exc_tuple` in IPython 7.17 and above.\n",
      "  and should_run_async(code)\n"
     ]
    }
   ],
   "source": [
    "test_vecs = []\n",
    "for i in range(len(words)):\n",
    "    top_topics = modelf.get_document_topics(corpus[i], minimum_probability=0.0)\n",
    "    topic_vec = [top_topics[i][1] for i in range(6)]\n",
    "    test_vecs.append(topic_vec)"
   ]
  },
  {
   "cell_type": "code",
   "execution_count": 12,
   "metadata": {},
   "outputs": [
    {
     "name": "stderr",
     "output_type": "stream",
     "text": [
      "C:\\Users\\ajain\\Anaconda3\\lib\\site-packages\\ipykernel\\ipkernel.py:287: DeprecationWarning: `should_run_async` will not call `transform_cell` automatically in the future. Please pass the result to `transformed_cell` argument and any exception that happen during thetransform in `preprocessing_exc_tuple` in IPython 7.17 and above.\n",
      "  and should_run_async(code)\n"
     ]
    }
   ],
   "source": [
    "topic0 = []\n",
    "topic1 = []\n",
    "topic2 = []\n",
    "topic3 = []\n",
    "topic4 = []\n",
    "topic5 = []\n",
    "matched_topic = [topic0, topic1, topic2, topic3, topic4, topic5]\n"
   ]
  },
  {
   "cell_type": "code",
   "execution_count": 13,
   "metadata": {},
   "outputs": [
    {
     "name": "stderr",
     "output_type": "stream",
     "text": [
      "C:\\Users\\ajain\\Anaconda3\\lib\\site-packages\\ipykernel\\ipkernel.py:287: DeprecationWarning: `should_run_async` will not call `transform_cell` automatically in the future. Please pass the result to `transformed_cell` argument and any exception that happen during thetransform in `preprocessing_exc_tuple` in IPython 7.17 and above.\n",
      "  and should_run_async(code)\n"
     ]
    }
   ],
   "source": [
    "for i in range(len(test_vecs)):\n",
    "    mx = -1\n",
    "    for j in range(len(test_vecs[i])):\n",
    "        mx = max(mx, test_vecs[i][j])\n",
    "    \n",
    "    for j in range(len(test_vecs[i])):\n",
    "        if mx==test_vecs[i][j]:\n",
    "            matched_topic[j].append(articles[i])\n",
    "            break"
   ]
  },
  {
   "cell_type": "code",
   "execution_count": 14,
   "metadata": {},
   "outputs": [
    {
     "name": "stderr",
     "output_type": "stream",
     "text": [
      "C:\\Users\\ajain\\Anaconda3\\lib\\site-packages\\ipykernel\\ipkernel.py:287: DeprecationWarning: `should_run_async` will not call `transform_cell` automatically in the future. Please pass the result to `transformed_cell` argument and any exception that happen during thetransform in `preprocessing_exc_tuple` in IPython 7.17 and above.\n",
      "  and should_run_async(code)\n"
     ]
    },
    {
     "data": {
      "text/plain": [
       "31970"
      ]
     },
     "execution_count": 14,
     "metadata": {},
     "output_type": "execute_result"
    }
   ],
   "source": [
    "len(matched_topic[0])"
   ]
  },
  {
   "cell_type": "code",
   "execution_count": 18,
   "metadata": {},
   "outputs": [
    {
     "name": "stderr",
     "output_type": "stream",
     "text": [
      "C:\\Users\\ajain\\Anaconda3\\lib\\site-packages\\ipykernel\\ipkernel.py:287: DeprecationWarning: `should_run_async` will not call `transform_cell` automatically in the future. Please pass the result to `transformed_cell` argument and any exception that happen during thetransform in `preprocessing_exc_tuple` in IPython 7.17 and above.\n",
      "  and should_run_async(code)\n"
     ]
    }
   ],
   "source": [
    "dict = {'content' : matched_topic[0]}\n",
    "df = pd.DataFrame(dict)  \n",
    "    \n",
    "# saving the dataframe  \n",
    "df.to_csv('Corona.csv')"
   ]
  },
  {
   "cell_type": "markdown",
   "metadata": {},
   "source": [
    "import numpy as np\n",
    "import nltk\n",
    "from nltk.corpus import wordnet as wn\n",
    "import pandas as pd\n",
    "\n",
    "\n",
    "def convert_tag(tag):\n",
    "    tag_dict = {'N': 'n', 'J': 'a', 'R': 'r', 'V': 'v'}\n",
    "    try:\n",
    "        return tag_dict[tag[0]]\n",
    "    except KeyError:\n",
    "        return None\n",
    "\n",
    "\n",
    "def doc_to_synsets(doc):\n",
    "   \n",
    "\n",
    "    token = nltk.word_tokenize(doc)\n",
    "    tag = nltk.pos_tag(token)\n",
    "    nltk2wordnet = [(i[0], convert_tag(i[1])) for i in tag]\n",
    "    output = [wn.synsets(i, z)[0] for i, z in nltk2wordnet if len(wn.synsets(i, z))>0]\n",
    "\n",
    "    return output\n",
    "\n",
    "\n",
    "def similarity_score(s1, s2):\n",
    "   \n",
    "    # Your Code Here\n",
    "    list1 = []\n",
    "    # For each synset in s1\n",
    "    for a in s1:\n",
    "        # finds the synset in s2 with the largest similarity value\n",
    "        list1.append(max([i.path_similarity(a) for i in s2 if i.path_similarity(a) is not None]))\n",
    "\n",
    "    output = sum(list1)/len(list1)\n",
    "\n",
    "    return output\n",
    "\n",
    "\n",
    "def document_path_similarity(doc1, doc2):\n",
    "    synsets1 = doc_to_synsets(doc1)\n",
    "    synsets2 = doc_to_synsets(doc2)\n",
    "    return (similarity_score(synsets1, synsets2) + similarity_score(synsets2, synsets1)) / 2\n",
    "\n",
    "\n",
    "\n",
    "\n"
   ]
  },
  {
   "cell_type": "markdown",
   "metadata": {},
   "source": [
    "t = np.zeros((len(matched_topic[0]),len(matched_topic[0])))\n",
    "t             "
   ]
  },
  {
   "cell_type": "markdown",
   "metadata": {},
   "source": [
    "for i in range(len(matched_topic[0])):\n",
    "              doc1 = test_articles[matched_topic[0][i]]\n",
    "              for j in range(i, len(matched_topic[0])):\n",
    "                  doc2 = test_articles[matched_topic[0][j]]\n",
    "                  if i == j:\n",
    "                      t[i][j]= -1\n",
    "                      continue\n",
    "                  t[i][j] = document_path_similarity(doc1, doc2)\n",
    "                  t[j][i] = t[i][j]\n",
    "                  print(t[i][j], end= '') "
   ]
  },
  {
   "cell_type": "code",
   "execution_count": 102,
   "metadata": {},
   "outputs": [],
   "source": [
    "from sklearn.feature_extraction.text import TfidfVectorizer\n",
    "import pandas as pd\n",
    "\n",
    "# Create the Document Term Matrix\n",
    "count_vectorizer = TfidfVectorizer(stop_words='english')\n",
    "count_vectorizer = TfidfVectorizer()\n",
    "sparse_matrix = count_vectorizer.fit_transform(matched_topic[0])"
   ]
  },
  {
   "cell_type": "code",
   "execution_count": 103,
   "metadata": {},
   "outputs": [],
   "source": [
    "from sklearn.metrics.pairwise import cosine_similarity\n",
    "a=[]\n",
    "a= cosine_similarity( sparse_matrix, sparse_matrix)"
   ]
  },
  {
   "cell_type": "code",
   "execution_count": null,
   "metadata": {},
   "outputs": [],
   "source": [
    "for i in range(len(a)):\n",
    "    for k in range(len(a[i])):\n",
    "        if a[i][k] > 0.5 and i!=k:\n",
    "            print(\"(\",i,k,\")\", end = ' ')\n",
    "            \n",
    "            \n",
    "            "
   ]
  },
  {
   "cell_type": "code",
   "execution_count": null,
   "metadata": {},
   "outputs": [],
   "source": [
    "print(matched_topic[3][5])"
   ]
  },
  {
   "cell_type": "code",
   "execution_count": null,
   "metadata": {},
   "outputs": [],
   "source": [
    "print(matched_topic[3][602])"
   ]
  },
  {
   "cell_type": "code",
   "execution_count": null,
   "metadata": {},
   "outputs": [],
   "source": []
  }
 ],
 "metadata": {
  "kernelspec": {
   "display_name": "Python 3",
   "language": "python",
   "name": "python3"
  },
  "language_info": {
   "codemirror_mode": {
    "name": "ipython",
    "version": 3
   },
   "file_extension": ".py",
   "mimetype": "text/x-python",
   "name": "python",
   "nbconvert_exporter": "python",
   "pygments_lexer": "ipython3",
   "version": "3.7.4"
  }
 },
 "nbformat": 4,
 "nbformat_minor": 4
}
